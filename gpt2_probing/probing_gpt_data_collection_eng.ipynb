{
  "cells": [
    {
      "cell_type": "markdown",
      "id": "qQEvBYe0Qwru",
      "metadata": {
        "id": "qQEvBYe0Qwru"
      },
      "source": [
        "# **Probing GPT model**\n",
        "\n",
        "This tutorial is about probing, a simple but powerful method for learning the inner workings of LLMs (Large Language Models). It can be used to gain approximate knowledge about the patterns the model learns and how this knowledge is controlled at different levels.\n",
        "\n",
        "### **Probing idea**\n",
        "\n",
        "Feed the model with input text $x$, getting a prediction $output$. Save and consider the chain of hidden states:\n",
        "\n",
        "$$x \\to hidden_1 \\to hidden_2 \\to \\dots \\to hidden_n \\to output$$\n",
        "\n",
        "where $hidden_i$ is the vector representation of the input from $x$ at the $i$ layer.\n",
        "\n",
        "If applied to $hidden_i$ collected from certain model data, we can form hypotheses to answer the questions:\n",
        "\n",
        "- Does $hidden_i$ contain semantic information about parts of speech? (collect representations and solve the classification problem on the annotated data)\n",
        "- Where is the knowledge about facts or concepts that the model \"learned\" from the data encoded? (similar to the previous one)\n",
        "\n",
        "It is true that probing requires routine labeling, but it is not always difficult. In the tutorial we will consider:\n",
        "\n",
        "1. The probing process using GPT2 as an example;\n",
        "2. Analysis of the information content of hidden states using PCA;\n",
        "3. Setting up an experiment (and the experiment itself) to answer the question: which layer by level allows for an approximate solution of the regression problem and stores information by year?;\n",
        "\n",
        "### **Problem statement - where in the model is knowledge about dates stored?**\n",
        "\n",
        "Let's say we have a generative model. Let's pose the question: **where exactly does this model \"know\" what years a particular person lived?**\n",
        "\n",
        "To do this, we need to:\n",
        "\n",
        "1. Create a dataset: pairs of the form (question: \"When was Newton born?\", answer: \"1643\").\n",
        "2. Run questions through the model and extract hidden states from different layers.\n",
        "3. Extract the predicted date;\n",
        "4. Train a probe that predicts the date based on the hidden state.\n",
        "5. Analyze on which layers the model most effectively stores information about dates.\n",
        "\n",
        "Let's get started.\n",
        "\n",
        "\n",
        "Inspired by: https://ai-office-hours.beehiiv.com/p/llm-probing\n",
        "\n",
        "paper https://arxiv.org/pdf/2310.02207.pdf"
      ]
    },
    {
      "cell_type": "code",
      "execution_count": 2,
      "id": "V2xF4Fe_V2BC",
      "metadata": {
        "id": "V2xF4Fe_V2BC"
      },
      "outputs": [],
      "source": [
        "#!pip install datasets==3.2.0 -q"
      ]
    },
    {
      "cell_type": "code",
      "execution_count": 3,
      "id": "1LGtOjMhDcAM",
      "metadata": {
        "id": "1LGtOjMhDcAM"
      },
      "outputs": [
        {
          "name": "stderr",
          "output_type": "stream",
          "text": [
            "/Users/sabrinasadieh/Code/XAI-open_materials/.venv/lib/python3.12/site-packages/tqdm/auto.py:21: TqdmWarning: IProgress not found. Please update jupyter and ipywidgets. See https://ipywidgets.readthedocs.io/en/stable/user_install.html\n",
            "  from .autonotebook import tqdm as notebook_tqdm\n"
          ]
        }
      ],
      "source": [
        "import torch\n",
        "import random\n",
        "import json\n",
        "import re\n",
        "\n",
        "import numpy as np\n",
        "import pandas as pd\n",
        "\n",
        "#from datasets import load_dataset\n",
        "from transformers import GPT2Tokenizer, GPT2LMHeadModel\n",
        "from tqdm.auto import tqdm\n",
        "# suppress sklearn warning\n",
        "import warnings; warnings.filterwarnings(\"ignore\")"
      ]
    },
    {
      "cell_type": "markdown",
      "id": "RiSF-AoFYYEl",
      "metadata": {
        "id": "RiSF-AoFYYEl"
      },
      "source": [
        "### **GPT-2 Model**\n",
        "GPT-2 is a transformer layer. First, let's load the model and see an example of how it works. In our analysis, we will use `gpt2-medium` trained on `WebText`. You can read more about the model in [article](https://cdn.openai.com/better-language-models/language_models_are_unsupervised_multitask_learners.pdf), but let's note that the dataset the model was trained on has the following features:\n",
        "\n",
        "- No Wikipedia pages;\n",
        "- Knowledge for the model was collected before 2019;\n",
        "- Data was collected based on articles on `Reddit`, filtered by user vote >3;\n",
        "\n",
        "Also, let's note that when we pass text to the model, the following happens:\n",
        "\n",
        "1. The text is broken down into tokens (e.g. `\"Albert\"` → `15433`, `\"Einstein\"` → `8372`).\n",
        "\n",
        "2. Each token is transformed into a vector representation (embedding).\n",
        "\n",
        "3. Vectors are passed through several layers of the transformer\n",
        "- The last layers add more and more information about the context.\n",
        "\n",
        "4. At the output of each layer, we get a *sequence* of hidden states1 and the final forecast, which are gradually \"saturated\" with context."
      ]
    },
    {
      "cell_type": "code",
      "execution_count": 5,
      "id": "3WlfVgrbsdWj",
      "metadata": {
        "colab": {
          "base_uri": "https://localhost:8080/"
        },
        "id": "3WlfVgrbsdWj",
        "outputId": "19e88ffd-3715-49b1-edaa-d8ca4ac2260e"
      },
      "outputs": [
        {
          "name": "stderr",
          "output_type": "stream",
          "text": [
            "Setting `pad_token_id` to `eos_token_id`:50256 for open-end generation.\n"
          ]
        },
        {
          "name": "stdout",
          "output_type": "stream",
          "text": [
            "When was Albert Einstein Born?\n",
            "\n",
            "Albert Einstein was born on November 20, 1879, in\n"
          ]
        }
      ],
      "source": [
        "# Загружаем токенизатор и модель\n",
        "tokenizer = GPT2Tokenizer.from_pretrained('gpt2-medium')\n",
        "model = GPT2LMHeadModel.from_pretrained('gpt2-medium')\n",
        "\n",
        "# Установка устройства (GPU, если доступно)\n",
        "# device = torch.device(\"cuda\" if torch.cuda.is_available() else \"cpu\")\n",
        "# model = model.to(device)\n",
        "\n",
        "# Исходный текст\n",
        "text = \"When was Albert Einstein Born?\"\n",
        "encoded_input = tokenizer(text, return_tensors='pt') #.to(device)\n",
        "\n",
        "# Генерируем продолжение текста\n",
        "with torch.no_grad():\n",
        "  # = model(**encoded_input)\n",
        "  output_ids = model.generate(**encoded_input, max_length=20)\n",
        "\n",
        "# Декодируем токены обратно в текст\n",
        "decoded_output = tokenizer.decode(output_ids[0], skip_special_tokens=True)\n",
        "\n",
        "print(decoded_output)"
      ]
    },
    {
      "cell_type": "markdown",
      "id": "H9qpISPDltk0",
      "metadata": {
        "id": "H9qpISPDltk0"
      },
      "source": [
        "The *response generation* model performs, in our case, the task of answering a question. We will gradually modify the code so that only the year is extracted from the answer. We will limit ourselves to years from 1800 to 2019.\n",
        "\n",
        "We will extract the year using regular expressions."
      ]
    },
    {
      "cell_type": "code",
      "execution_count": 6,
      "id": "Mjb5ri_XszR3",
      "metadata": {
        "colab": {
          "base_uri": "https://localhost:8080/"
        },
        "id": "Mjb5ri_XszR3",
        "outputId": "03da4a10-d6bd-4cfc-f590-eaf3e70dc9fa"
      },
      "outputs": [
        {
          "name": "stdout",
          "output_type": "stream",
          "text": [
            "Extracted year: 2000\n"
          ]
        }
      ],
      "source": [
        "# регулярка для поиска годв\n",
        "\n",
        "pattern = r\"\\b(1[89][0-9]{2}|20[01][0-9])(?:[s’']{0,2}|th)?\\b\"\n",
        "example = \"In the 2000s, I fell in love with cats.\"\n",
        "\n",
        "match_ = re.search(pattern, example)\n",
        "\n",
        "year = match_.group(1) if match_ else None\n",
        "\n",
        "print(\"Extracted year:\", year)"
      ]
    },
    {
      "cell_type": "markdown",
      "id": "877859b7",
      "metadata": {},
      "source": [
        "### **Preparing data and collecting hidden states**"
      ]
    },
    {
      "cell_type": "markdown",
      "id": "1z8RShJlot2C",
      "metadata": {
        "id": "1z8RShJlot2C"
      },
      "source": [
        "The hidden state(s) are the **internal representations** of the input text within the model. They are developed after processing the data of each layer of neural networks and contain encoded information about the text. *\"What does the open state contain?\"* is an open question. There are a number of studies showing that different levels contain different semantic information. For example, the first levels contain information about speech texts and the place of words in a sentence, and the last levels contain the meaning of words. But this interpretation is not universal and in particular probing is an attempt to understand the internal processes in models.\n",
        "\n",
        "### **How ​​to get open state in Hugging Face?**\n",
        "If the model supports `output_hidden_states=True`, then after text processing we can append them like this:\n",
        "\n",
        "``` python\n",
        "outputs = model(**encoded_input)\n",
        "Hidden_states = outputs.hidden_states # This is a tuple of N tensors (over the results of the layers)\n",
        "```\n",
        "\n",
        "- `hidden_states[0]` — first layer\n",
        "- `hidden_states[-1]` — last layer\n",
        "- `hidden_states[len(hidden_states) // 2]` — center layer\n",
        "\n",
        "The shape of hidden settings:\n",
        "```\n",
        "(packet_size, sequence_length, hidden_size)\n",
        "```\n",
        "For example, for `gpt2-medium`:\n",
        "```\n",
        "(1, 6, 1024) # 6 tokens, each represented by 1024-dimensional vector\n",
        "```"
      ]
    },
    {
      "cell_type": "code",
      "execution_count": 7,
      "id": "XvK0cVV7r5af",
      "metadata": {
        "id": "XvK0cVV7r5af"
      },
      "outputs": [],
      "source": [
        "tokenizer.pad_token = tokenizer.eos_token"
      ]
    },
    {
      "cell_type": "code",
      "execution_count": 8,
      "id": "STfZhQzDY34G",
      "metadata": {
        "colab": {
          "base_uri": "https://localhost:8080/"
        },
        "id": "STfZhQzDY34G",
        "outputId": "90b34d4a-7b9e-4a25-8163-74bd898e4460"
      },
      "outputs": [
        {
          "name": "stderr",
          "output_type": "stream",
          "text": [
            "Setting `pad_token_id` to `eos_token_id`:50256 for open-end generation.\n",
            "A decoder-only architecture is being used, but right-padding was detected! For correct generation results, please set `padding_side='left'` when initializing the tokenizer.\n"
          ]
        }
      ],
      "source": [
        "# Texts\n",
        "texts = [\"When was Albert Einstein born?\", \"When was Frida Kahlo born?\", \"When was Claus Hammel born?\"]\n",
        "encoded_input = tokenizer(texts, return_tensors='pt', padding=True, truncation=True)\n",
        "\n",
        "# Run through the model and get hidden states\n",
        "with torch.no_grad():\n",
        "    outputs = model(**encoded_input, output_hidden_states=True)\n",
        "    output_ids = model.generate(**encoded_input, max_length=30)\n",
        "    hidden_states = outputs.hidden_states  # All hidden states (tuple of 25 layers)"
      ]
    },
    {
      "cell_type": "markdown",
      "id": "5RBul_kuxdm_",
      "metadata": {
        "id": "5RBul_kuxdm_"
      },
      "source": [
        "Let's see what the hidden_states dimensions look like"
      ]
    },
    {
      "cell_type": "code",
      "execution_count": 9,
      "id": "BJH6WRwBxdQx",
      "metadata": {
        "colab": {
          "base_uri": "https://localhost:8080/"
        },
        "id": "BJH6WRwBxdQx",
        "outputId": "bf275f41-7515-4d82-c773-fb78267e7296"
      },
      "outputs": [
        {
          "name": "stdout",
          "output_type": "stream",
          "text": [
            "First layer shape: torch.Size([3, 8, 1024])\n",
            "Middle layer shape: torch.Size([3, 8, 1024])\n",
            "Last layer shape: torch.Size([3, 8, 1024])\n"
          ]
        }
      ],
      "source": [
        "# Get hidden states (first, middle and last layers)\n",
        "first_layer = hidden_states[0]  # first layer\n",
        "middle_layer = hidden_states[len(hidden_states) // 2]  # mid layer\n",
        "last_layer = hidden_states[-1]  # last layer\n",
        "\n",
        "# Вывод размеров скрытых состояний\n",
        "print(\"First layer shape:\", first_layer.shape)  # (batch_size, seq_len, hidden_dim)\n",
        "print(\"Middle layer shape:\", middle_layer.shape)\n",
        "print(\"Last layer shape:\", last_layer.shape)"
      ]
    },
    {
      "cell_type": "code",
      "execution_count": 10,
      "id": "ZORbgFCwwy42",
      "metadata": {
        "colab": {
          "base_uri": "https://localhost:8080/"
        },
        "id": "ZORbgFCwwy42",
        "outputId": "9cd54aa6-6dcb-4fdc-db90-d9fb559036a0"
      },
      "outputs": [
        {
          "name": "stdout",
          "output_type": "stream",
          "text": [
            "When was Albert Einstein born?The answer is: in 1879. Einstein was born in Vienna, Austria, and died in New York City\n",
            "\n",
            "When was Frida Kahlo born?\n",
            "\n",
            "Frida Kahlo was born on November 28, 1894, in the small town of La Pl\n",
            "\n",
            "When was Claus Hammel born?The answer is: in 1848. He was born in the town of St. Paul, Minnesota, and\n",
            "\n"
          ]
        }
      ],
      "source": [
        "# Decode the model responses\n",
        "decoded_output = [tokenizer.decode(i, skip_special_tokens=True) for i in output_ids]\n",
        "\n",
        "for i in decoded_output:\n",
        "  print(i + '\\n') #print(\"Generated text:\", decoded_output)\n"
      ]
    },
    {
      "cell_type": "code",
      "execution_count": 11,
      "id": "K68TD9q1xJcs",
      "metadata": {
        "colab": {
          "base_uri": "https://localhost:8080/"
        },
        "id": "K68TD9q1xJcs",
        "outputId": "c249bd37-4e93-47f0-fec4-a9b78397c65e"
      },
      "outputs": [
        {
          "name": "stdout",
          "output_type": "stream",
          "text": [
            "Extracted years: ['1879', '1894', '1848']\n"
          ]
        }
      ],
      "source": [
        "# Извлечем года\n",
        "\n",
        "pattern = r\"\\b(1[89][0-9]{2}|20[01][0-9])(?:[s’']{0,2}|th)?\\b\"\n",
        "\n",
        "years = []\n",
        "\n",
        "for i in decoded_output:\n",
        "  match_ = re.search(pattern, i)\n",
        "  year = match_.group(0) if match_ else None\n",
        "  years.append(year)\n",
        "\n",
        "print(\"Extracted years:\", years)"
      ]
    },
    {
      "cell_type": "code",
      "execution_count": 12,
      "id": "htzqFteorzLB",
      "metadata": {
        "colab": {
          "base_uri": "https://localhost:8080/"
        },
        "id": "htzqFteorzLB",
        "outputId": "236c2395-1526-47d0-a050-a1fba202f096"
      },
      "outputs": [
        {
          "name": "stdout",
          "output_type": "stream",
          "text": [
            "Input: When was Albert Einstein born?\n",
            "Generated year: 1879\n",
            "\n",
            "Input: When was Frida Kahlo born?\n",
            "Generated year: 1894\n",
            "\n",
            "Input: When was Claus Hammel born?\n",
            "Generated year: 1848\n",
            "\n"
          ]
        }
      ],
      "source": [
        "# Выводим результаты\n",
        "for text, year in zip(texts, years):\n",
        "    print(f\"Input: {text}\")\n",
        "    print(f\"Generated year: {year}\")\n",
        "    print()\n"
      ]
    },
    {
      "cell_type": "markdown",
      "id": "9pLZGcqrykcR",
      "metadata": {
        "id": "9pLZGcqrykcR"
      },
      "source": [
        "### **Dataset**\n",
        "\n",
        "We will work with the [people dataset](https://www.nature.com/articles/s41597-022-01369-4), pre-processed and cleaned for this experiment. The dataset required for work can be downloaded from [google disc](https://drive.google.com/file/d/1QbEbJlABsbhzyKfQ6L4ES1rH3wbbuPfG/view?usp=sharing)."
      ]
    },
    {
      "cell_type": "code",
      "execution_count": 13,
      "id": "B5oTb9R3oGAQ",
      "metadata": {
        "id": "B5oTb9R3oGAQ"
      },
      "outputs": [],
      "source": [
        "#people_dataset = people_dataset.to_pandas() # скачать оригинальный датасет"
      ]
    },
    {
      "cell_type": "code",
      "execution_count": 14,
      "id": "1ZXtmOPe6QH-",
      "metadata": {
        "colab": {
          "base_uri": "https://localhost:8080/"
        },
        "id": "1ZXtmOPe6QH-",
        "outputId": "5323fbaa-ac1c-451f-a0f5-07df80765835"
      },
      "outputs": [],
      "source": [
        "#!wget https://github.com/SadSabrina/XAI-open_materials/raw/refs/heads/main/gpt2_probing/people_dataset_prepared_most_popular.csv.zip"
      ]
    },
    {
      "cell_type": "code",
      "execution_count": 15,
      "id": "TJtLvvJL6uAl",
      "metadata": {
        "colab": {
          "base_uri": "https://localhost:8080/"
        },
        "id": "TJtLvvJL6uAl",
        "outputId": "3232834e-45a9-46a6-c462-c60fef3df8b9"
      },
      "outputs": [],
      "source": [
        "#!unzip /Users/sabrinasadieh/Code/XAI-open_materials/gpt2_probing/people_dataset_prepared_most_popular.csv.zip"
      ]
    },
    {
      "cell_type": "code",
      "execution_count": 16,
      "id": "3vu0TIzo6wqD",
      "metadata": {
        "id": "3vu0TIzo6wqD"
      },
      "outputs": [],
      "source": [
        "most_popular = pd.read_csv('//Users/sabrinasadieh/Code/XAI-open_materials/gpt2_probing/people_dataset_prepared_most_popular.csv')"
      ]
    },
    {
      "cell_type": "code",
      "execution_count": 17,
      "id": "AAzrQlLO1ZZ3",
      "metadata": {
        "colab": {
          "base_uri": "https://localhost:8080/",
          "height": 260
        },
        "id": "AAzrQlLO1ZZ3",
        "outputId": "65e1deed-870d-4334-8c02-94032dc45c0c"
      },
      "outputs": [
        {
          "data": {
            "text/html": [
              "<div>\n",
              "<style scoped>\n",
              "    .dataframe tbody tr th:only-of-type {\n",
              "        vertical-align: middle;\n",
              "    }\n",
              "\n",
              "    .dataframe tbody tr th {\n",
              "        vertical-align: top;\n",
              "    }\n",
              "\n",
              "    .dataframe thead th {\n",
              "        text-align: right;\n",
              "    }\n",
              "</style>\n",
              "<table border=\"1\" class=\"dataframe\">\n",
              "  <thead>\n",
              "    <tr style=\"text-align: right;\">\n",
              "      <th></th>\n",
              "      <th>name</th>\n",
              "      <th>birth</th>\n",
              "      <th>death</th>\n",
              "      <th>wiki_readers_2015_2018</th>\n",
              "      <th>birth_min</th>\n",
              "      <th>birth_max</th>\n",
              "      <th>death_min</th>\n",
              "      <th>death_max</th>\n",
              "    </tr>\n",
              "  </thead>\n",
              "  <tbody>\n",
              "    <tr>\n",
              "      <th>0</th>\n",
              "      <td>Karel Matěj Čapek-Chod</td>\n",
              "      <td>1860.0</td>\n",
              "      <td>1927.0</td>\n",
              "      <td>25008</td>\n",
              "      <td>1860.0</td>\n",
              "      <td>1860.0</td>\n",
              "      <td>1927.0</td>\n",
              "      <td>1927.0</td>\n",
              "    </tr>\n",
              "    <tr>\n",
              "      <th>1</th>\n",
              "      <td>Florian Eichinger</td>\n",
              "      <td>1971.0</td>\n",
              "      <td>NaN</td>\n",
              "      <td>27285</td>\n",
              "      <td>1971.0</td>\n",
              "      <td>1971.0</td>\n",
              "      <td>NaN</td>\n",
              "      <td>NaN</td>\n",
              "    </tr>\n",
              "    <tr>\n",
              "      <th>2</th>\n",
              "      <td>Florian Jahr</td>\n",
              "      <td>1983.0</td>\n",
              "      <td>NaN</td>\n",
              "      <td>37331</td>\n",
              "      <td>1983.0</td>\n",
              "      <td>1983.0</td>\n",
              "      <td>NaN</td>\n",
              "      <td>NaN</td>\n",
              "    </tr>\n",
              "    <tr>\n",
              "      <th>3</th>\n",
              "      <td>Tadeusz Borowski</td>\n",
              "      <td>1922.0</td>\n",
              "      <td>1951.0</td>\n",
              "      <td>341110</td>\n",
              "      <td>1922.0</td>\n",
              "      <td>1922.0</td>\n",
              "      <td>1951.0</td>\n",
              "      <td>1951.0</td>\n",
              "    </tr>\n",
              "    <tr>\n",
              "      <th>4</th>\n",
              "      <td>Joseph C. O'Mahoney</td>\n",
              "      <td>1884.0</td>\n",
              "      <td>1962.0</td>\n",
              "      <td>15428</td>\n",
              "      <td>1884.0</td>\n",
              "      <td>1884.0</td>\n",
              "      <td>1962.0</td>\n",
              "      <td>1962.0</td>\n",
              "    </tr>\n",
              "  </tbody>\n",
              "</table>\n",
              "</div>"
            ],
            "text/plain": [
              "                     name   birth   death  wiki_readers_2015_2018  birth_min  \\\n",
              "0  Karel Matěj Čapek-Chod  1860.0  1927.0                   25008     1860.0   \n",
              "1       Florian Eichinger  1971.0     NaN                   27285     1971.0   \n",
              "2            Florian Jahr  1983.0     NaN                   37331     1983.0   \n",
              "3        Tadeusz Borowski  1922.0  1951.0                  341110     1922.0   \n",
              "4     Joseph C. O'Mahoney  1884.0  1962.0                   15428     1884.0   \n",
              "\n",
              "   birth_max  death_min  death_max  \n",
              "0     1860.0     1927.0     1927.0  \n",
              "1     1971.0        NaN        NaN  \n",
              "2     1983.0        NaN        NaN  \n",
              "3     1922.0     1951.0     1951.0  \n",
              "4     1884.0     1962.0     1962.0  "
            ]
          },
          "execution_count": 17,
          "metadata": {},
          "output_type": "execute_result"
        }
      ],
      "source": [
        "most_popular.head()"
      ]
    },
    {
      "cell_type": "code",
      "execution_count": 18,
      "id": "MABsjCWfzpLp",
      "metadata": {
        "colab": {
          "base_uri": "https://localhost:8080/"
        },
        "id": "MABsjCWfzpLp",
        "outputId": "c0239278-ab43-4c16-fc2d-ad624044ed1e"
      },
      "outputs": [
        {
          "data": {
            "text/plain": [
              "(556311, 8)"
            ]
          },
          "execution_count": 18,
          "metadata": {},
          "output_type": "execute_result"
        }
      ],
      "source": [
        "most_popular.shape"
      ]
    },
    {
      "cell_type": "code",
      "execution_count": 19,
      "id": "5b14ecef",
      "metadata": {},
      "outputs": [
        {
          "data": {
            "text/plain": [
              "np.float64(1800.0)"
            ]
          },
          "execution_count": 19,
          "metadata": {},
          "output_type": "execute_result"
        }
      ],
      "source": [
        "most_popular['birth'].min()"
      ]
    },
    {
      "cell_type": "markdown",
      "id": "93b22ef3",
      "metadata": {},
      "source": [
        "So, we have a dataset, pre-cleaned by the \"year\" table. It contains people born from 1800 to 2019. We will be interested in two columns - 'name' (to extract the name) and `birth`."
      ]
    },
    {
      "cell_type": "markdown",
      "id": "ba50b497",
      "metadata": {},
      "source": [
        "### **How ​​does it work?**\n",
        "\n",
        "1. **Data selection:** We select input $x$ and labels for the auxiliary task. For example, this could be part-of-speech detection, time-frame extraction, or fact classification.\n",
        "\n",
        "2. **Hidden state extraction:** We pass input $x$ through the model and save hidden states $hidden_i$ from one or more layers.\n",
        "\n",
        "3. **Probe training:** We build a simple classifier or regression model (e.g. logistic regression, SVM, or a small neural network layer) and train it on $hidden_i$. This model is our \"probe\".\n",
        "\n",
        "4. **Analysis:** We evaluate the performance of the probe. If the probe solves the task well, it means that the information needed to solve the task is encoded in $hidden_i$."
      ]
    },
    {
      "cell_type": "code",
      "execution_count": 20,
      "id": "MlDAwTVDsUnC",
      "metadata": {
        "id": "MlDAwTVDsUnC"
      },
      "outputs": [],
      "source": [
        "# Function for receiving activations and attention\n",
        "def get_activations_and_attention(model, enc_inputs, pattern_to_response):\n",
        "    activations = {}\n",
        "\n",
        "    with torch.no_grad():\n",
        "        outputs = model(**enc_inputs, output_hidden_states=True)\n",
        "        output_ids = model.generate(**enc_inputs, max_length=30)\n",
        "\n",
        "    decoded_output = tokenizer.decode(output_ids[0], skip_special_tokens=True)\n",
        "    match_ = re.search(pattern_to_response, decoded_output)\n",
        "    year = match_.group(1) if match_ else None\n",
        "\n",
        "    # Extracting attention (first, middle and last layers)\n",
        "    activations['layer_1'] = outputs.hidden_states[0]  # The first attention layer \n",
        "    activations['layer_middle'] = outputs.hidden_states[len(outputs.hidden_states) // 2]  # The mid attention layer \n",
        "    activations['layer_last'] = outputs.hidden_states[-1]  # The last attention layer \n",
        "\n",
        "    return activations, year\n",
        "\n",
        "# # Collecting data for training\n",
        "# activations_data_l1 = []\n",
        "# activations_data_lmid = []\n",
        "# activations_data_llast = []\n",
        "# predicted_years = [] # Years of birth predicted\n",
        "# actual_years = [] # Years of birth actual"
      ]
    },
    {
      "cell_type": "code",
      "execution_count": 21,
      "id": "ehWULTEd5a7z",
      "metadata": {
        "id": "ehWULTEd5a7z"
      },
      "outputs": [],
      "source": [
        "# question = \"When was Albert Einstein born?\"\n",
        "# inputs = tokenizer(question, return_tensors=\"pt\", padding=True, truncation=True)"
      ]
    },
    {
      "cell_type": "code",
      "execution_count": 22,
      "id": "gV4hpJuR12XE",
      "metadata": {
        "colab": {
          "base_uri": "https://localhost:8080/",
          "height": 1000
        },
        "id": "gV4hpJuR12XE",
        "outputId": "33aee6c6-0738-497b-a90d-ddb73973e68a"
      },
      "outputs": [],
      "source": [
        "# cnt = 0\n",
        "# torch.manual_seed(0)\n",
        "# random.seed(0)\n",
        "\n",
        "# np.random.seed(0)\n",
        "\n",
        "# # We collect activations and attention for all people\n",
        "# for index, row in most_popular.iloc[:5001, :].iterrows():\n",
        "#     name = row['name']\n",
        "#     true_year = row['birth']\n",
        "\n",
        "#     # Create requests for each person\n",
        "#     question = f\"When was {name} born?\"\n",
        "\n",
        "#     # tokenize\n",
        "#     inputs = tokenizer(question, return_tensors=\"pt\", padding=True, truncation=True)\n",
        "\n",
        "#     # Extracting activations and attention\n",
        "#     activations, predicted = get_activations_and_attention(model, inputs, pattern)\n",
        "\n",
        "#     #Layer activations\n",
        "#     act_layer_1 = activations['layer_1'].flatten().cpu().numpy()\n",
        "#     act_layer_middle = activations['layer_middle'].flatten().cpu().numpy()\n",
        "#     act_layer_last = activations['layer_last'].flatten().cpu().numpy()\n",
        "\n",
        "#     # collect data\n",
        "#     activations_data_l1.append(act_layer_1)\n",
        "#     activations_data_lmid.append(act_layer_middle)\n",
        "#     activations_data_llast.append(act_layer_last)\n",
        "\n",
        "#     predicted_years.append(predicted)\n",
        "#     actual_years.append(true_year)\n",
        "\n",
        "\n",
        "#     cnt += 1\n",
        "\n",
        "#     if cnt % 500 == 0:\n",
        "#       print(cnt)"
      ]
    }
  ],
  "metadata": {
    "accelerator": "GPU",
    "colab": {
      "gpuType": "T4",
      "machine_shape": "hm",
      "provenance": []
    },
    "kernelspec": {
      "display_name": ".venv",
      "language": "python",
      "name": "python3"
    },
    "language_info": {
      "codemirror_mode": {
        "name": "ipython",
        "version": 3
      },
      "file_extension": ".py",
      "mimetype": "text/x-python",
      "name": "python",
      "nbconvert_exporter": "python",
      "pygments_lexer": "ipython3",
      "version": "3.12.5"
    },
    "widgets": {
      "application/vnd.jupyter.widget-state+json": {
        "04232b4f7d7140ed98e075cba56df558": {
          "model_module": "@jupyter-widgets/controls",
          "model_module_version": "1.5.0",
          "model_name": "ProgressStyleModel",
          "state": {
            "_model_module": "@jupyter-widgets/controls",
            "_model_module_version": "1.5.0",
            "_model_name": "ProgressStyleModel",
            "_view_count": null,
            "_view_module": "@jupyter-widgets/base",
            "_view_module_version": "1.2.0",
            "_view_name": "StyleView",
            "bar_color": null,
            "description_width": ""
          }
        },
        "08f6642efc85424d86639ab95af4c8b7": {
          "model_module": "@jupyter-widgets/base",
          "model_module_version": "1.2.0",
          "model_name": "LayoutModel",
          "state": {
            "_model_module": "@jupyter-widgets/base",
            "_model_module_version": "1.2.0",
            "_model_name": "LayoutModel",
            "_view_count": null,
            "_view_module": "@jupyter-widgets/base",
            "_view_module_version": "1.2.0",
            "_view_name": "LayoutView",
            "align_content": null,
            "align_items": null,
            "align_self": null,
            "border": null,
            "bottom": null,
            "display": null,
            "flex": null,
            "flex_flow": null,
            "grid_area": null,
            "grid_auto_columns": null,
            "grid_auto_flow": null,
            "grid_auto_rows": null,
            "grid_column": null,
            "grid_gap": null,
            "grid_row": null,
            "grid_template_areas": null,
            "grid_template_columns": null,
            "grid_template_rows": null,
            "height": null,
            "justify_content": null,
            "justify_items": null,
            "left": null,
            "margin": null,
            "max_height": null,
            "max_width": null,
            "min_height": null,
            "min_width": null,
            "object_fit": null,
            "object_position": null,
            "order": null,
            "overflow": null,
            "overflow_x": null,
            "overflow_y": null,
            "padding": null,
            "right": null,
            "top": null,
            "visibility": null,
            "width": null
          }
        },
        "0ce38e591507464282ce1103402e3da4": {
          "model_module": "@jupyter-widgets/controls",
          "model_module_version": "1.5.0",
          "model_name": "DescriptionStyleModel",
          "state": {
            "_model_module": "@jupyter-widgets/controls",
            "_model_module_version": "1.5.0",
            "_model_name": "DescriptionStyleModel",
            "_view_count": null,
            "_view_module": "@jupyter-widgets/base",
            "_view_module_version": "1.2.0",
            "_view_name": "StyleView",
            "description_width": ""
          }
        },
        "10d1f43c241b450d8ac5a6f1e6183c66": {
          "model_module": "@jupyter-widgets/base",
          "model_module_version": "1.2.0",
          "model_name": "LayoutModel",
          "state": {
            "_model_module": "@jupyter-widgets/base",
            "_model_module_version": "1.2.0",
            "_model_name": "LayoutModel",
            "_view_count": null,
            "_view_module": "@jupyter-widgets/base",
            "_view_module_version": "1.2.0",
            "_view_name": "LayoutView",
            "align_content": null,
            "align_items": null,
            "align_self": null,
            "border": null,
            "bottom": null,
            "display": null,
            "flex": null,
            "flex_flow": null,
            "grid_area": null,
            "grid_auto_columns": null,
            "grid_auto_flow": null,
            "grid_auto_rows": null,
            "grid_column": null,
            "grid_gap": null,
            "grid_row": null,
            "grid_template_areas": null,
            "grid_template_columns": null,
            "grid_template_rows": null,
            "height": null,
            "justify_content": null,
            "justify_items": null,
            "left": null,
            "margin": null,
            "max_height": null,
            "max_width": null,
            "min_height": null,
            "min_width": null,
            "object_fit": null,
            "object_position": null,
            "order": null,
            "overflow": null,
            "overflow_x": null,
            "overflow_y": null,
            "padding": null,
            "right": null,
            "top": null,
            "visibility": null,
            "width": null
          }
        },
        "11e2752690e549a7b18dcdaa662643f7": {
          "model_module": "@jupyter-widgets/base",
          "model_module_version": "1.2.0",
          "model_name": "LayoutModel",
          "state": {
            "_model_module": "@jupyter-widgets/base",
            "_model_module_version": "1.2.0",
            "_model_name": "LayoutModel",
            "_view_count": null,
            "_view_module": "@jupyter-widgets/base",
            "_view_module_version": "1.2.0",
            "_view_name": "LayoutView",
            "align_content": null,
            "align_items": null,
            "align_self": null,
            "border": null,
            "bottom": null,
            "display": null,
            "flex": null,
            "flex_flow": null,
            "grid_area": null,
            "grid_auto_columns": null,
            "grid_auto_flow": null,
            "grid_auto_rows": null,
            "grid_column": null,
            "grid_gap": null,
            "grid_row": null,
            "grid_template_areas": null,
            "grid_template_columns": null,
            "grid_template_rows": null,
            "height": null,
            "justify_content": null,
            "justify_items": null,
            "left": null,
            "margin": null,
            "max_height": null,
            "max_width": null,
            "min_height": null,
            "min_width": null,
            "object_fit": null,
            "object_position": null,
            "order": null,
            "overflow": null,
            "overflow_x": null,
            "overflow_y": null,
            "padding": null,
            "right": null,
            "top": null,
            "visibility": null,
            "width": null
          }
        },
        "21c141b00e7c40b7a59f18ca7b994e2d": {
          "model_module": "@jupyter-widgets/controls",
          "model_module_version": "1.5.0",
          "model_name": "ProgressStyleModel",
          "state": {
            "_model_module": "@jupyter-widgets/controls",
            "_model_module_version": "1.5.0",
            "_model_name": "ProgressStyleModel",
            "_view_count": null,
            "_view_module": "@jupyter-widgets/base",
            "_view_module_version": "1.2.0",
            "_view_name": "StyleView",
            "bar_color": null,
            "description_width": ""
          }
        },
        "23585622ce9143fd8b26361c6a0c8d49": {
          "model_module": "@jupyter-widgets/base",
          "model_module_version": "1.2.0",
          "model_name": "LayoutModel",
          "state": {
            "_model_module": "@jupyter-widgets/base",
            "_model_module_version": "1.2.0",
            "_model_name": "LayoutModel",
            "_view_count": null,
            "_view_module": "@jupyter-widgets/base",
            "_view_module_version": "1.2.0",
            "_view_name": "LayoutView",
            "align_content": null,
            "align_items": null,
            "align_self": null,
            "border": null,
            "bottom": null,
            "display": null,
            "flex": null,
            "flex_flow": null,
            "grid_area": null,
            "grid_auto_columns": null,
            "grid_auto_flow": null,
            "grid_auto_rows": null,
            "grid_column": null,
            "grid_gap": null,
            "grid_row": null,
            "grid_template_areas": null,
            "grid_template_columns": null,
            "grid_template_rows": null,
            "height": null,
            "justify_content": null,
            "justify_items": null,
            "left": null,
            "margin": null,
            "max_height": null,
            "max_width": null,
            "min_height": null,
            "min_width": null,
            "object_fit": null,
            "object_position": null,
            "order": null,
            "overflow": null,
            "overflow_x": null,
            "overflow_y": null,
            "padding": null,
            "right": null,
            "top": null,
            "visibility": null,
            "width": null
          }
        },
        "2737cecf797e49fabafc9f4f47c17626": {
          "model_module": "@jupyter-widgets/controls",
          "model_module_version": "1.5.0",
          "model_name": "HTMLModel",
          "state": {
            "_dom_classes": [],
            "_model_module": "@jupyter-widgets/controls",
            "_model_module_version": "1.5.0",
            "_model_name": "HTMLModel",
            "_view_count": null,
            "_view_module": "@jupyter-widgets/controls",
            "_view_module_version": "1.5.0",
            "_view_name": "HTMLView",
            "description": "",
            "description_tooltip": null,
            "layout": "IPY_MODEL_30817750dc484b02a96741f9e1239ba7",
            "placeholder": "​",
            "style": "IPY_MODEL_fabd66db95154e7bb3c322fafdaeb655",
            "value": "cleaned_people.csv: 100%"
          }
        },
        "29ecea1e0b6e4655a2cf15280ac73245": {
          "model_module": "@jupyter-widgets/controls",
          "model_module_version": "1.5.0",
          "model_name": "ProgressStyleModel",
          "state": {
            "_model_module": "@jupyter-widgets/controls",
            "_model_module_version": "1.5.0",
            "_model_name": "ProgressStyleModel",
            "_view_count": null,
            "_view_module": "@jupyter-widgets/base",
            "_view_module_version": "1.2.0",
            "_view_name": "StyleView",
            "bar_color": null,
            "description_width": ""
          }
        },
        "30817750dc484b02a96741f9e1239ba7": {
          "model_module": "@jupyter-widgets/base",
          "model_module_version": "1.2.0",
          "model_name": "LayoutModel",
          "state": {
            "_model_module": "@jupyter-widgets/base",
            "_model_module_version": "1.2.0",
            "_model_name": "LayoutModel",
            "_view_count": null,
            "_view_module": "@jupyter-widgets/base",
            "_view_module_version": "1.2.0",
            "_view_name": "LayoutView",
            "align_content": null,
            "align_items": null,
            "align_self": null,
            "border": null,
            "bottom": null,
            "display": null,
            "flex": null,
            "flex_flow": null,
            "grid_area": null,
            "grid_auto_columns": null,
            "grid_auto_flow": null,
            "grid_auto_rows": null,
            "grid_column": null,
            "grid_gap": null,
            "grid_row": null,
            "grid_template_areas": null,
            "grid_template_columns": null,
            "grid_template_rows": null,
            "height": null,
            "justify_content": null,
            "justify_items": null,
            "left": null,
            "margin": null,
            "max_height": null,
            "max_width": null,
            "min_height": null,
            "min_width": null,
            "object_fit": null,
            "object_position": null,
            "order": null,
            "overflow": null,
            "overflow_x": null,
            "overflow_y": null,
            "padding": null,
            "right": null,
            "top": null,
            "visibility": null,
            "width": null
          }
        },
        "35e9e81b73d84b06b6c7152918f27c28": {
          "model_module": "@jupyter-widgets/base",
          "model_module_version": "1.2.0",
          "model_name": "LayoutModel",
          "state": {
            "_model_module": "@jupyter-widgets/base",
            "_model_module_version": "1.2.0",
            "_model_name": "LayoutModel",
            "_view_count": null,
            "_view_module": "@jupyter-widgets/base",
            "_view_module_version": "1.2.0",
            "_view_name": "LayoutView",
            "align_content": null,
            "align_items": null,
            "align_self": null,
            "border": null,
            "bottom": null,
            "display": null,
            "flex": null,
            "flex_flow": null,
            "grid_area": null,
            "grid_auto_columns": null,
            "grid_auto_flow": null,
            "grid_auto_rows": null,
            "grid_column": null,
            "grid_gap": null,
            "grid_row": null,
            "grid_template_areas": null,
            "grid_template_columns": null,
            "grid_template_rows": null,
            "height": null,
            "justify_content": null,
            "justify_items": null,
            "left": null,
            "margin": null,
            "max_height": null,
            "max_width": null,
            "min_height": null,
            "min_width": null,
            "object_fit": null,
            "object_position": null,
            "order": null,
            "overflow": null,
            "overflow_x": null,
            "overflow_y": null,
            "padding": null,
            "right": null,
            "top": null,
            "visibility": null,
            "width": null
          }
        },
        "41c4a89d95e240b98b7bc3d71652f595": {
          "model_module": "@jupyter-widgets/controls",
          "model_module_version": "1.5.0",
          "model_name": "FloatProgressModel",
          "state": {
            "_dom_classes": [],
            "_model_module": "@jupyter-widgets/controls",
            "_model_module_version": "1.5.0",
            "_model_name": "FloatProgressModel",
            "_view_count": null,
            "_view_module": "@jupyter-widgets/controls",
            "_view_module_version": "1.5.0",
            "_view_name": "ProgressView",
            "bar_style": "success",
            "description": "",
            "description_tooltip": null,
            "layout": "IPY_MODEL_08f6642efc85424d86639ab95af4c8b7",
            "max": 74,
            "min": 0,
            "orientation": "horizontal",
            "style": "IPY_MODEL_04232b4f7d7140ed98e075cba56df558",
            "value": 74
          }
        },
        "4b62fe0e07554567b5dfaa402036fdbc": {
          "model_module": "@jupyter-widgets/controls",
          "model_module_version": "1.5.0",
          "model_name": "HTMLModel",
          "state": {
            "_dom_classes": [],
            "_model_module": "@jupyter-widgets/controls",
            "_model_module_version": "1.5.0",
            "_model_name": "HTMLModel",
            "_view_count": null,
            "_view_module": "@jupyter-widgets/controls",
            "_view_module_version": "1.5.0",
            "_view_name": "HTMLView",
            "description": "",
            "description_tooltip": null,
            "layout": "IPY_MODEL_5c1d551cf1864c8dbee075faf4c037d0",
            "placeholder": "​",
            "style": "IPY_MODEL_bb2b117bf2ed4a6a873e32f871760627",
            "value": " 2291817/2291817 [00:02&lt;00:00, 854550.76 examples/s]"
          }
        },
        "4ece8b776cde41bf842f206ded37665c": {
          "model_module": "@jupyter-widgets/controls",
          "model_module_version": "1.5.0",
          "model_name": "DescriptionStyleModel",
          "state": {
            "_model_module": "@jupyter-widgets/controls",
            "_model_module_version": "1.5.0",
            "_model_name": "DescriptionStyleModel",
            "_view_count": null,
            "_view_module": "@jupyter-widgets/base",
            "_view_module_version": "1.2.0",
            "_view_name": "StyleView",
            "description_width": ""
          }
        },
        "5c1d551cf1864c8dbee075faf4c037d0": {
          "model_module": "@jupyter-widgets/base",
          "model_module_version": "1.2.0",
          "model_name": "LayoutModel",
          "state": {
            "_model_module": "@jupyter-widgets/base",
            "_model_module_version": "1.2.0",
            "_model_name": "LayoutModel",
            "_view_count": null,
            "_view_module": "@jupyter-widgets/base",
            "_view_module_version": "1.2.0",
            "_view_name": "LayoutView",
            "align_content": null,
            "align_items": null,
            "align_self": null,
            "border": null,
            "bottom": null,
            "display": null,
            "flex": null,
            "flex_flow": null,
            "grid_area": null,
            "grid_auto_columns": null,
            "grid_auto_flow": null,
            "grid_auto_rows": null,
            "grid_column": null,
            "grid_gap": null,
            "grid_row": null,
            "grid_template_areas": null,
            "grid_template_columns": null,
            "grid_template_rows": null,
            "height": null,
            "justify_content": null,
            "justify_items": null,
            "left": null,
            "margin": null,
            "max_height": null,
            "max_width": null,
            "min_height": null,
            "min_width": null,
            "object_fit": null,
            "object_position": null,
            "order": null,
            "overflow": null,
            "overflow_x": null,
            "overflow_y": null,
            "padding": null,
            "right": null,
            "top": null,
            "visibility": null,
            "width": null
          }
        },
        "5f55b4f5e0b749e49d5b1480717534c6": {
          "model_module": "@jupyter-widgets/controls",
          "model_module_version": "1.5.0",
          "model_name": "HBoxModel",
          "state": {
            "_dom_classes": [],
            "_model_module": "@jupyter-widgets/controls",
            "_model_module_version": "1.5.0",
            "_model_name": "HBoxModel",
            "_view_count": null,
            "_view_module": "@jupyter-widgets/controls",
            "_view_module_version": "1.5.0",
            "_view_name": "HBoxView",
            "box_style": "",
            "children": [
              "IPY_MODEL_d60913c138974e0ebf3116d781c04fb4",
              "IPY_MODEL_6aaf363ca2fc45e4a1b6837880222f8e",
              "IPY_MODEL_4b62fe0e07554567b5dfaa402036fdbc"
            ],
            "layout": "IPY_MODEL_b89a16c27e5241d98d1a56da4af27f18"
          }
        },
        "613d86c3ec0e4a0593fa2af352000a67": {
          "model_module": "@jupyter-widgets/controls",
          "model_module_version": "1.5.0",
          "model_name": "HBoxModel",
          "state": {
            "_dom_classes": [],
            "_model_module": "@jupyter-widgets/controls",
            "_model_module_version": "1.5.0",
            "_model_name": "HBoxModel",
            "_view_count": null,
            "_view_module": "@jupyter-widgets/controls",
            "_view_module_version": "1.5.0",
            "_view_name": "HBoxView",
            "box_style": "",
            "children": [
              "IPY_MODEL_7d51a350a74d4f208241ac0c0147f99d",
              "IPY_MODEL_41c4a89d95e240b98b7bc3d71652f595",
              "IPY_MODEL_cae2acf1f9a348be975e58adca234708"
            ],
            "layout": "IPY_MODEL_fd0b239b26224a41abc6068b9ff3cb3f"
          }
        },
        "6aaf363ca2fc45e4a1b6837880222f8e": {
          "model_module": "@jupyter-widgets/controls",
          "model_module_version": "1.5.0",
          "model_name": "FloatProgressModel",
          "state": {
            "_dom_classes": [],
            "_model_module": "@jupyter-widgets/controls",
            "_model_module_version": "1.5.0",
            "_model_name": "FloatProgressModel",
            "_view_count": null,
            "_view_module": "@jupyter-widgets/controls",
            "_view_module_version": "1.5.0",
            "_view_name": "ProgressView",
            "bar_style": "success",
            "description": "",
            "description_tooltip": null,
            "layout": "IPY_MODEL_bb186527242d4579a4e9fe85d93fd012",
            "max": 2291817,
            "min": 0,
            "orientation": "horizontal",
            "style": "IPY_MODEL_21c141b00e7c40b7a59f18ca7b994e2d",
            "value": 2291817
          }
        },
        "6bd00ef04b654f72990adab54f638445": {
          "model_module": "@jupyter-widgets/controls",
          "model_module_version": "1.5.0",
          "model_name": "DescriptionStyleModel",
          "state": {
            "_model_module": "@jupyter-widgets/controls",
            "_model_module_version": "1.5.0",
            "_model_name": "DescriptionStyleModel",
            "_view_count": null,
            "_view_module": "@jupyter-widgets/base",
            "_view_module_version": "1.2.0",
            "_view_name": "StyleView",
            "description_width": ""
          }
        },
        "7275e94fa2214062845d521eebddaa84": {
          "model_module": "@jupyter-widgets/controls",
          "model_module_version": "1.5.0",
          "model_name": "HBoxModel",
          "state": {
            "_dom_classes": [],
            "_model_module": "@jupyter-widgets/controls",
            "_model_module_version": "1.5.0",
            "_model_name": "HBoxModel",
            "_view_count": null,
            "_view_module": "@jupyter-widgets/controls",
            "_view_module_version": "1.5.0",
            "_view_name": "HBoxView",
            "box_style": "",
            "children": [
              "IPY_MODEL_2737cecf797e49fabafc9f4f47c17626",
              "IPY_MODEL_e339591399d1453fa8da1b7ce2b928b9",
              "IPY_MODEL_b8b8af4658b24d479b7e7fcf1b05d00b"
            ],
            "layout": "IPY_MODEL_f521ed61e496494cbc7bc467df7f0a6e"
          }
        },
        "7d51a350a74d4f208241ac0c0147f99d": {
          "model_module": "@jupyter-widgets/controls",
          "model_module_version": "1.5.0",
          "model_name": "HTMLModel",
          "state": {
            "_dom_classes": [],
            "_model_module": "@jupyter-widgets/controls",
            "_model_module_version": "1.5.0",
            "_model_name": "HTMLModel",
            "_view_count": null,
            "_view_module": "@jupyter-widgets/controls",
            "_view_module_version": "1.5.0",
            "_view_name": "HTMLView",
            "description": "",
            "description_tooltip": null,
            "layout": "IPY_MODEL_11e2752690e549a7b18dcdaa662643f7",
            "placeholder": "​",
            "style": "IPY_MODEL_fdb744b515cb4b0796c57530aabe5217",
            "value": "README.md: 100%"
          }
        },
        "b89a16c27e5241d98d1a56da4af27f18": {
          "model_module": "@jupyter-widgets/base",
          "model_module_version": "1.2.0",
          "model_name": "LayoutModel",
          "state": {
            "_model_module": "@jupyter-widgets/base",
            "_model_module_version": "1.2.0",
            "_model_name": "LayoutModel",
            "_view_count": null,
            "_view_module": "@jupyter-widgets/base",
            "_view_module_version": "1.2.0",
            "_view_name": "LayoutView",
            "align_content": null,
            "align_items": null,
            "align_self": null,
            "border": null,
            "bottom": null,
            "display": null,
            "flex": null,
            "flex_flow": null,
            "grid_area": null,
            "grid_auto_columns": null,
            "grid_auto_flow": null,
            "grid_auto_rows": null,
            "grid_column": null,
            "grid_gap": null,
            "grid_row": null,
            "grid_template_areas": null,
            "grid_template_columns": null,
            "grid_template_rows": null,
            "height": null,
            "justify_content": null,
            "justify_items": null,
            "left": null,
            "margin": null,
            "max_height": null,
            "max_width": null,
            "min_height": null,
            "min_width": null,
            "object_fit": null,
            "object_position": null,
            "order": null,
            "overflow": null,
            "overflow_x": null,
            "overflow_y": null,
            "padding": null,
            "right": null,
            "top": null,
            "visibility": null,
            "width": null
          }
        },
        "b8b8af4658b24d479b7e7fcf1b05d00b": {
          "model_module": "@jupyter-widgets/controls",
          "model_module_version": "1.5.0",
          "model_name": "HTMLModel",
          "state": {
            "_dom_classes": [],
            "_model_module": "@jupyter-widgets/controls",
            "_model_module_version": "1.5.0",
            "_model_name": "HTMLModel",
            "_view_count": null,
            "_view_module": "@jupyter-widgets/controls",
            "_view_module_version": "1.5.0",
            "_view_name": "HTMLView",
            "description": "",
            "description_tooltip": null,
            "layout": "IPY_MODEL_c522d08dcd9e413f9bde482416e5bef1",
            "placeholder": "​",
            "style": "IPY_MODEL_0ce38e591507464282ce1103402e3da4",
            "value": " 125M/125M [00:02&lt;00:00, 42.7MB/s]"
          }
        },
        "bb186527242d4579a4e9fe85d93fd012": {
          "model_module": "@jupyter-widgets/base",
          "model_module_version": "1.2.0",
          "model_name": "LayoutModel",
          "state": {
            "_model_module": "@jupyter-widgets/base",
            "_model_module_version": "1.2.0",
            "_model_name": "LayoutModel",
            "_view_count": null,
            "_view_module": "@jupyter-widgets/base",
            "_view_module_version": "1.2.0",
            "_view_name": "LayoutView",
            "align_content": null,
            "align_items": null,
            "align_self": null,
            "border": null,
            "bottom": null,
            "display": null,
            "flex": null,
            "flex_flow": null,
            "grid_area": null,
            "grid_auto_columns": null,
            "grid_auto_flow": null,
            "grid_auto_rows": null,
            "grid_column": null,
            "grid_gap": null,
            "grid_row": null,
            "grid_template_areas": null,
            "grid_template_columns": null,
            "grid_template_rows": null,
            "height": null,
            "justify_content": null,
            "justify_items": null,
            "left": null,
            "margin": null,
            "max_height": null,
            "max_width": null,
            "min_height": null,
            "min_width": null,
            "object_fit": null,
            "object_position": null,
            "order": null,
            "overflow": null,
            "overflow_x": null,
            "overflow_y": null,
            "padding": null,
            "right": null,
            "top": null,
            "visibility": null,
            "width": null
          }
        },
        "bb2b117bf2ed4a6a873e32f871760627": {
          "model_module": "@jupyter-widgets/controls",
          "model_module_version": "1.5.0",
          "model_name": "DescriptionStyleModel",
          "state": {
            "_model_module": "@jupyter-widgets/controls",
            "_model_module_version": "1.5.0",
            "_model_name": "DescriptionStyleModel",
            "_view_count": null,
            "_view_module": "@jupyter-widgets/base",
            "_view_module_version": "1.2.0",
            "_view_name": "StyleView",
            "description_width": ""
          }
        },
        "c522d08dcd9e413f9bde482416e5bef1": {
          "model_module": "@jupyter-widgets/base",
          "model_module_version": "1.2.0",
          "model_name": "LayoutModel",
          "state": {
            "_model_module": "@jupyter-widgets/base",
            "_model_module_version": "1.2.0",
            "_model_name": "LayoutModel",
            "_view_count": null,
            "_view_module": "@jupyter-widgets/base",
            "_view_module_version": "1.2.0",
            "_view_name": "LayoutView",
            "align_content": null,
            "align_items": null,
            "align_self": null,
            "border": null,
            "bottom": null,
            "display": null,
            "flex": null,
            "flex_flow": null,
            "grid_area": null,
            "grid_auto_columns": null,
            "grid_auto_flow": null,
            "grid_auto_rows": null,
            "grid_column": null,
            "grid_gap": null,
            "grid_row": null,
            "grid_template_areas": null,
            "grid_template_columns": null,
            "grid_template_rows": null,
            "height": null,
            "justify_content": null,
            "justify_items": null,
            "left": null,
            "margin": null,
            "max_height": null,
            "max_width": null,
            "min_height": null,
            "min_width": null,
            "object_fit": null,
            "object_position": null,
            "order": null,
            "overflow": null,
            "overflow_x": null,
            "overflow_y": null,
            "padding": null,
            "right": null,
            "top": null,
            "visibility": null,
            "width": null
          }
        },
        "cae2acf1f9a348be975e58adca234708": {
          "model_module": "@jupyter-widgets/controls",
          "model_module_version": "1.5.0",
          "model_name": "HTMLModel",
          "state": {
            "_dom_classes": [],
            "_model_module": "@jupyter-widgets/controls",
            "_model_module_version": "1.5.0",
            "_model_name": "HTMLModel",
            "_view_count": null,
            "_view_module": "@jupyter-widgets/controls",
            "_view_module_version": "1.5.0",
            "_view_name": "HTMLView",
            "description": "",
            "description_tooltip": null,
            "layout": "IPY_MODEL_23585622ce9143fd8b26361c6a0c8d49",
            "placeholder": "​",
            "style": "IPY_MODEL_6bd00ef04b654f72990adab54f638445",
            "value": " 74.0/74.0 [00:00&lt;00:00, 5.53kB/s]"
          }
        },
        "d60913c138974e0ebf3116d781c04fb4": {
          "model_module": "@jupyter-widgets/controls",
          "model_module_version": "1.5.0",
          "model_name": "HTMLModel",
          "state": {
            "_dom_classes": [],
            "_model_module": "@jupyter-widgets/controls",
            "_model_module_version": "1.5.0",
            "_model_name": "HTMLModel",
            "_view_count": null,
            "_view_module": "@jupyter-widgets/controls",
            "_view_module_version": "1.5.0",
            "_view_name": "HTMLView",
            "description": "",
            "description_tooltip": null,
            "layout": "IPY_MODEL_35e9e81b73d84b06b6c7152918f27c28",
            "placeholder": "​",
            "style": "IPY_MODEL_4ece8b776cde41bf842f206ded37665c",
            "value": "Generating train split: 100%"
          }
        },
        "e339591399d1453fa8da1b7ce2b928b9": {
          "model_module": "@jupyter-widgets/controls",
          "model_module_version": "1.5.0",
          "model_name": "FloatProgressModel",
          "state": {
            "_dom_classes": [],
            "_model_module": "@jupyter-widgets/controls",
            "_model_module_version": "1.5.0",
            "_model_name": "FloatProgressModel",
            "_view_count": null,
            "_view_module": "@jupyter-widgets/controls",
            "_view_module_version": "1.5.0",
            "_view_name": "ProgressView",
            "bar_style": "success",
            "description": "",
            "description_tooltip": null,
            "layout": "IPY_MODEL_10d1f43c241b450d8ac5a6f1e6183c66",
            "max": 124609137,
            "min": 0,
            "orientation": "horizontal",
            "style": "IPY_MODEL_29ecea1e0b6e4655a2cf15280ac73245",
            "value": 124609137
          }
        },
        "f521ed61e496494cbc7bc467df7f0a6e": {
          "model_module": "@jupyter-widgets/base",
          "model_module_version": "1.2.0",
          "model_name": "LayoutModel",
          "state": {
            "_model_module": "@jupyter-widgets/base",
            "_model_module_version": "1.2.0",
            "_model_name": "LayoutModel",
            "_view_count": null,
            "_view_module": "@jupyter-widgets/base",
            "_view_module_version": "1.2.0",
            "_view_name": "LayoutView",
            "align_content": null,
            "align_items": null,
            "align_self": null,
            "border": null,
            "bottom": null,
            "display": null,
            "flex": null,
            "flex_flow": null,
            "grid_area": null,
            "grid_auto_columns": null,
            "grid_auto_flow": null,
            "grid_auto_rows": null,
            "grid_column": null,
            "grid_gap": null,
            "grid_row": null,
            "grid_template_areas": null,
            "grid_template_columns": null,
            "grid_template_rows": null,
            "height": null,
            "justify_content": null,
            "justify_items": null,
            "left": null,
            "margin": null,
            "max_height": null,
            "max_width": null,
            "min_height": null,
            "min_width": null,
            "object_fit": null,
            "object_position": null,
            "order": null,
            "overflow": null,
            "overflow_x": null,
            "overflow_y": null,
            "padding": null,
            "right": null,
            "top": null,
            "visibility": null,
            "width": null
          }
        },
        "fabd66db95154e7bb3c322fafdaeb655": {
          "model_module": "@jupyter-widgets/controls",
          "model_module_version": "1.5.0",
          "model_name": "DescriptionStyleModel",
          "state": {
            "_model_module": "@jupyter-widgets/controls",
            "_model_module_version": "1.5.0",
            "_model_name": "DescriptionStyleModel",
            "_view_count": null,
            "_view_module": "@jupyter-widgets/base",
            "_view_module_version": "1.2.0",
            "_view_name": "StyleView",
            "description_width": ""
          }
        },
        "fd0b239b26224a41abc6068b9ff3cb3f": {
          "model_module": "@jupyter-widgets/base",
          "model_module_version": "1.2.0",
          "model_name": "LayoutModel",
          "state": {
            "_model_module": "@jupyter-widgets/base",
            "_model_module_version": "1.2.0",
            "_model_name": "LayoutModel",
            "_view_count": null,
            "_view_module": "@jupyter-widgets/base",
            "_view_module_version": "1.2.0",
            "_view_name": "LayoutView",
            "align_content": null,
            "align_items": null,
            "align_self": null,
            "border": null,
            "bottom": null,
            "display": null,
            "flex": null,
            "flex_flow": null,
            "grid_area": null,
            "grid_auto_columns": null,
            "grid_auto_flow": null,
            "grid_auto_rows": null,
            "grid_column": null,
            "grid_gap": null,
            "grid_row": null,
            "grid_template_areas": null,
            "grid_template_columns": null,
            "grid_template_rows": null,
            "height": null,
            "justify_content": null,
            "justify_items": null,
            "left": null,
            "margin": null,
            "max_height": null,
            "max_width": null,
            "min_height": null,
            "min_width": null,
            "object_fit": null,
            "object_position": null,
            "order": null,
            "overflow": null,
            "overflow_x": null,
            "overflow_y": null,
            "padding": null,
            "right": null,
            "top": null,
            "visibility": null,
            "width": null
          }
        },
        "fdb744b515cb4b0796c57530aabe5217": {
          "model_module": "@jupyter-widgets/controls",
          "model_module_version": "1.5.0",
          "model_name": "DescriptionStyleModel",
          "state": {
            "_model_module": "@jupyter-widgets/controls",
            "_model_module_version": "1.5.0",
            "_model_name": "DescriptionStyleModel",
            "_view_count": null,
            "_view_module": "@jupyter-widgets/base",
            "_view_module_version": "1.2.0",
            "_view_name": "StyleView",
            "description_width": ""
          }
        }
      }
    }
  },
  "nbformat": 4,
  "nbformat_minor": 5
}
