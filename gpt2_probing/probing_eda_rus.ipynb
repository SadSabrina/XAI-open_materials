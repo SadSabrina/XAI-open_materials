{
 "cells": [
  {
   "cell_type": "markdown",
   "metadata": {
    "vscode": {
     "languageId": "plaintext"
    }
   },
   "source": [
    "### **Data Analysis**\n",
    "\n",
    "Проведем анализ собранных данных. Для воспроизведения, вы также можете скачать их с [гугл диска](https://drive.google.com/file/d/1ci7yB0vAdEm1soj0-qM6eS8TqmfsAjcP/view?usp=sharing). "
   ]
  },
  {
   "cell_type": "code",
   "execution_count": 1,
   "metadata": {},
   "outputs": [],
   "source": [
    "import pandas as pd\n",
    "from sklearn.linear_model import LinearRegression\n",
    "from sklearn.decomposition import PCA\n",
    "from sklearn.metrics import mean_absolute_error, mean_squared_error, r2_score\n",
    "from sklearn.model_selection import train_test_split"
   ]
  },
  {
   "cell_type": "code",
   "execution_count": 2,
   "metadata": {},
   "outputs": [],
   "source": [
    "X_acivations_l1 = pd.read_csv('results/X_acivations_l1.csv')\n",
    "X_acivations_lmid = pd.read_csv('results/X_acivations_lmid.csv')\n",
    "X_acivations_llast = pd.read_csv('results/X_acivations_llast.csv')"
   ]
  },
  {
   "cell_type": "markdown",
   "metadata": {},
   "source": [
    "В данных содержатся вопросы из 6-ти токенов \"[SOS] When was {name} born? [EOS]\".  Почитстим данные от дублей. "
   ]
  },
  {
   "cell_type": "code",
   "execution_count": 4,
   "metadata": {},
   "outputs": [
    {
     "name": "stdout",
     "output_type": "stream",
     "text": [
      "504\n",
      "504\n",
      "504\n"
     ]
    }
   ],
   "source": [
    "print(X_acivations_l1.duplicated().sum())\n",
    "print(X_acivations_lmid.duplicated().sum())\n",
    "print(X_acivations_llast.duplicated().sum())\n",
    "\n",
    "X_acivations_l1.drop_duplicates(inplace=True)\n",
    "X_acivations_lmid.drop_duplicates(inplace=True)\n",
    "X_acivations_llast.drop_duplicates(inplace=True)"
   ]
  },
  {
   "cell_type": "code",
   "execution_count": 5,
   "metadata": {},
   "outputs": [
    {
     "name": "stdout",
     "output_type": "stream",
     "text": [
      "(4997, 6146)\n",
      "(4997, 6146)\n",
      "(4997, 6146)\n"
     ]
    }
   ],
   "source": [
    "print(X_acivations_l1.shape)\n",
    "print(X_acivations_lmid.shape)\n",
    "print(X_acivations_llast.shape)"
   ]
  },
  {
   "cell_type": "markdown",
   "metadata": {},
   "source": [
    "Всего у нас 1024*6 + 2 столбца. Каждые 1024 — есть кодирование токенов. Проанализируем дубли по столбцам, соотвествующим одному токену в последовательности. "
   ]
  },
  {
   "cell_type": "code",
   "execution_count": 23,
   "metadata": {},
   "outputs": [
    {
     "name": "stdout",
     "output_type": "stream",
     "text": [
      "Токен 1, активаций-дублей:\n",
      "4996, процент: 99.98\n",
      "Токен 2, активаций-дублей:\n",
      "4996, процент: 99.98\n",
      "Токен 3, активаций-дублей:\n",
      "3952, процент: 79.09\n",
      "Токен 4, активаций-дублей:\n",
      "3345, процент: 66.94\n",
      "Токен 5, активаций-дублей:\n",
      "3263, процент: 65.3\n",
      "Токен 6, активаций-дублей:\n",
      "3570, процент: 71.44\n"
     ]
    }
   ],
   "source": [
    "for i in range(0, 6):\n",
    "    print(f'Токен {i+1}, активаций-дублей:')\n",
    "    dupl_cnt = X_acivations_l1.iloc[:, 1024*i:1024*(i+1)-2].duplicated().sum()\n",
    "    print(f'{dupl_cnt}, процент: {round(dupl_cnt/4997*100, 2)}') \n",
    "    "
   ]
  },
  {
   "cell_type": "code",
   "execution_count": 24,
   "metadata": {},
   "outputs": [
    {
     "name": "stdout",
     "output_type": "stream",
     "text": [
      "Токен 1, активаций-дублей:\n",
      "4996, процент: 99.98\n",
      "Токен 2, активаций-дублей:\n",
      "4994, процент: 99.94\n",
      "Токен 3, активаций-дублей:\n",
      "3612, процент: 72.28\n",
      "Токен 4, активаций-дублей:\n",
      "1544, процент: 30.9\n",
      "Токен 5, активаций-дублей:\n",
      "601, процент: 12.03\n",
      "Токен 6, активаций-дублей:\n",
      "248, процент: 4.96\n"
     ]
    }
   ],
   "source": [
    "for i in range(0, 6):\n",
    "    print(f'Токен {i+1}, активаций-дублей:')\n",
    "    dupl_cnt = X_acivations_lmid.iloc[:, 1024*i:1024*(i+1) - 2].duplicated().sum()\n",
    "    print(f'{dupl_cnt}, процент: {round(dupl_cnt/4997*100, 2)}') "
   ]
  },
  {
   "cell_type": "code",
   "execution_count": 25,
   "metadata": {},
   "outputs": [
    {
     "name": "stdout",
     "output_type": "stream",
     "text": [
      "Токен 1, активаций-дублей:\n",
      "4996, процент: 99.98\n",
      "Токен 2, активаций-дублей:\n",
      "4994, процент: 99.94\n",
      "Токен 3, активаций-дублей:\n",
      "3612, процент: 72.28\n",
      "Токен 4, активаций-дублей:\n",
      "1544, процент: 30.9\n",
      "Токен 5, активаций-дублей:\n",
      "601, процент: 12.03\n",
      "Токен 6, активаций-дублей:\n",
      "248, процент: 4.96\n"
     ]
    }
   ],
   "source": [
    "for i in range(0, 6):\n",
    "    print(f'Токен {i+1}, активаций-дублей:')\n",
    "    dupl_cnt = X_acivations_llast.iloc[:, 1024*i:1024*(i+1) - 2].duplicated().sum()\n",
    "    print(f'{dupl_cnt}, процент: {round(dupl_cnt/4997*100, 2)}') "
   ]
  },
  {
   "cell_type": "markdown",
   "metadata": {},
   "source": [
    "Заметим, что: \n",
    "- Активации первых токенов (`[SOS] When`) в 99% случаев одинаковы. \n",
    "- Активации токена 3 ('was') одинаковы в более чем 70% случаев\n",
    "- \"Перелом\" уникальности — токен 4 — начало имени персоны.  \n",
    "\n",
    "Везде выкинем первый-второй. Остальные — выкидывать не будем, так как нам также важна комбинация токенов. "
   ]
  },
  {
   "cell_type": "code",
   "execution_count": 26,
   "metadata": {},
   "outputs": [],
   "source": [
    "X_acivations_l1 = X_acivations_l1.iloc[:, 2049:]\n",
    "X_acivations_lmid = X_acivations_lmid.iloc[:, 2049:]\n",
    "X_acivations_llast = X_acivations_llast.iloc[:, 2049:]"
   ]
  },
  {
   "cell_type": "markdown",
   "metadata": {},
   "source": [
    "Оценим, сколько пропусков по прогнозу в собранных даных. "
   ]
  },
  {
   "cell_type": "code",
   "execution_count": 28,
   "metadata": {},
   "outputs": [
    {
     "name": "stdout",
     "output_type": "stream",
     "text": [
      "y_pred    454\n",
      "dtype: int64\n",
      "y_pred    454\n",
      "dtype: int64\n",
      "y_pred    454\n",
      "dtype: int64\n"
     ]
    }
   ],
   "source": [
    "for data in [X_acivations_l1, X_acivations_lmid, X_acivations_llast]:\n",
    "    print(data.isna().sum()[data.isna().sum() != 0])"
   ]
  },
  {
   "cell_type": "markdown",
   "metadata": {},
   "source": [
    "Модель 454 оставшихся (то есть в 9% людей) раз не спрогнозировала год (или он не был найден паттерном). Таких тоже удалим. "
   ]
  },
  {
   "cell_type": "code",
   "execution_count": 29,
   "metadata": {},
   "outputs": [],
   "source": [
    "X_acivations_l1.dropna(inplace=True, subset=['y_pred'])\n",
    "X_acivations_lmid.dropna(inplace=True, subset=['y_pred'])\n",
    "X_acivations_llast.dropna(inplace=True, subset=['y_pred'])"
   ]
  },
  {
   "cell_type": "code",
   "execution_count": 31,
   "metadata": {},
   "outputs": [
    {
     "data": {
      "text/plain": [
       "((4543, 4097), (4543, 4097), (4543, 4097))"
      ]
     },
     "execution_count": 31,
     "metadata": {},
     "output_type": "execute_result"
    }
   ],
   "source": [
    "X_acivations_l1.shape, X_acivations_lmid.shape, X_acivations_llast.shape"
   ]
  },
  {
   "cell_type": "markdown",
   "metadata": {},
   "source": [
    "### **Обучение зондирующих моделей.**"
   ]
  },
  {
   "cell_type": "markdown",
   "metadata": {},
   "source": [
    "Обратим внимание на размерность пространства признаков. Заметим, что модель сейчас обучать не совсем корректно — высока вероятность переобучения (а если бы признаков было больше, чем объектов — обучать было бы совсем не корректно). \n",
    "\n",
    "Размерность сократим при помощи метода главных компонент, так, чтобы доля объясняемой дисперсии была `0.7, 0.8, 0.9, 0.95` соответственно. Посмотрим, сколько компонент для этого нужно. "
   ]
  },
  {
   "cell_type": "code",
   "execution_count": 32,
   "metadata": {},
   "outputs": [],
   "source": [
    "y_true = X_acivations_l1['y_actual'] \n",
    "y_pred = X_acivations_l1['y_pred']\n",
    "\n",
    "\n",
    "for data in [X_acivations_l1, X_acivations_llast, X_acivations_lmid]:\n",
    "    data.drop(['y_actual', 'y_pred'], axis=1, inplace=True)"
   ]
  },
  {
   "cell_type": "code",
   "execution_count": 33,
   "metadata": {},
   "outputs": [
    {
     "data": {
      "text/plain": [
       "((4543, 4095), (4543, 4095), (4543, 4095))"
      ]
     },
     "execution_count": 33,
     "metadata": {},
     "output_type": "execute_result"
    }
   ],
   "source": [
    "X_acivations_l1.shape, X_acivations_lmid.shape, X_acivations_llast.shape"
   ]
  },
  {
   "cell_type": "markdown",
   "metadata": {},
   "source": [
    "Для корректного оценивания важно, чтобы на каждом слое были выбраны одинаковые индексы при разбиении на train/test. Этого можно достичь, зафиксировав `random_state` в `train_test_split` из `sklearn`."
   ]
  },
  {
   "cell_type": "code",
   "execution_count": 34,
   "metadata": {},
   "outputs": [],
   "source": [
    "X_train_l1, X_test_l1, y_train_pred, y_test_pred = train_test_split(X_acivations_l1, y_pred, random_state=42)\n",
    "X_train_lmid, X_test_lmid = train_test_split(X_acivations_lmid, random_state=42)\n",
    "X_train_llast, X_test_llast = train_test_split(X_acivations_llast, random_state=42)\n",
    "\n",
    "\n",
    "assert all(X_train_l1.index == X_train_lmid.index)\n",
    "assert all(X_train_l1.index == X_train_llast.index)\n"
   ]
  },
  {
   "cell_type": "code",
   "execution_count": 35,
   "metadata": {},
   "outputs": [],
   "source": [
    "y_train_act, y_test_act = train_test_split(y_true, random_state=42)\n",
    "\n",
    "assert all(y_train_pred.index == y_train_act.index)"
   ]
  },
  {
   "cell_type": "markdown",
   "metadata": {},
   "source": [
    "Поочередно применим PCA."
   ]
  },
  {
   "cell_type": "code",
   "execution_count": 36,
   "metadata": {},
   "outputs": [],
   "source": [
    "def get_pca_data(X_train, X_test, n_components=100):\n",
    "    pca = PCA(n_components=n_components)\n",
    "   \n",
    "    X_train_pca = pca.fit_transform(X_train)\n",
    "    X_test_pca = pca.transform(X_test)\n",
    "\n",
    "    print(f'Varince explained: {np.sum(pca.explained_variance_ratio_)} with ({n_components} components)')\n",
    "\n",
    "    return X_train_pca, X_test_pca"
   ]
  },
  {
   "cell_type": "markdown",
   "metadata": {},
   "source": [
    "Количество компонент для первого слоя. "
   ]
  },
  {
   "cell_type": "code",
   "execution_count": 37,
   "metadata": {},
   "outputs": [
    {
     "name": "stdout",
     "output_type": "stream",
     "text": [
      "Varince explained: 0.7117101593142575 with (480 components)\n",
      "Varince explained: 0.8029339429541534 with (700 components)\n",
      "Varince explained: 0.9023904210689495 with (1100 components)\n",
      "Varince explained: 0.9546721072827444 with (1500 components)\n"
     ]
    }
   ],
   "source": [
    "# 0.7\n",
    "X_train_l1_pca_var7, X_test_l1_pca_var7 = get_pca_data(X_train_l1, X_test_l1, n_components=480)\n",
    "# 0.8\n",
    "X_train_l1_pca_var8, X_test_l1_pca_var8 = get_pca_data(X_train_l1, X_test_l1, n_components=700)\n",
    "# 0.9\n",
    "X_train_l1_pca_var9, X_test_l1_pca_var9 = get_pca_data(X_train_l1, X_test_l1, n_components=1100)\n",
    "# 0.95\n",
    "X_train_l1_pca_var95, X_test_l1_pca_var95 = get_pca_data(X_train_l1, X_test_l1, n_components=1500)"
   ]
  },
  {
   "cell_type": "markdown",
   "metadata": {},
   "source": [
    "Чтобы достичь разного уровня объясненной дисперсии  на первом слое, необходимо компонент:\n",
    "- для объясненной дисперсии 0.7 = 480\n",
    "- для объясненной дисперсии 0.8 = 700\n",
    "- для объясненной дисперсии 0.9 = 1100\n",
    "- для объясненной дисперсии 0.95 = 1500"
   ]
  },
  {
   "cell_type": "markdown",
   "metadata": {},
   "source": [
    "Количество компонент для среднего слоя. "
   ]
  },
  {
   "cell_type": "code",
   "execution_count": 38,
   "metadata": {},
   "outputs": [
    {
     "name": "stdout",
     "output_type": "stream",
     "text": [
      "Varince explained: 0.7050801922647513 with (175 components)\n",
      "Varince explained: 0.8058776039367189 with (310 components)\n",
      "Varince explained: 0.9030891565305463 with (600 components)\n",
      "Varince explained: 0.9513861913154726 with (930 components)\n"
     ]
    }
   ],
   "source": [
    "# 0.7\n",
    "X_train_lmid_pca_var7, X_test_lmid_pca_var7 = get_pca_data(X_train_lmid, X_test_lmid, n_components=175)\n",
    "# 0.8\n",
    "X_train_lmid_pca_var8, X_test_lmid_pca_var8 = get_pca_data(X_train_lmid, X_test_lmid, n_components=310)\n",
    "# 0.9\n",
    "X_train_lmid_pca_var9, X_test_lmid_pca_var9 = get_pca_data(X_train_lmid, X_test_lmid, n_components=600)\n",
    "# 0.95\n",
    "X_train_lmid_pca_var95, X_test_lmid_pca_var95 = get_pca_data(X_train_lmid, X_test_lmid, n_components=930)"
   ]
  },
  {
   "cell_type": "markdown",
   "metadata": {},
   "source": [
    "Чтобы достичь разного уровня объясненной дисперсии на среднем слое, необходимо компонент:\n",
    "- для объясненной дисперсии 0.7 = 175\n",
    "- для объясненной дисперсии 0.8 = 310\n",
    "- для объясненной дисперсии 0.9 = 600\n",
    "- для объясненной дисперсии 0.95 = 930"
   ]
  },
  {
   "cell_type": "markdown",
   "metadata": {},
   "source": [
    "Количество компонент для последнего слоя. "
   ]
  },
  {
   "cell_type": "code",
   "execution_count": 39,
   "metadata": {},
   "outputs": [
    {
     "name": "stdout",
     "output_type": "stream",
     "text": [
      "Varince explained: 0.6756132598848155 with (2 components)\n",
      "Varince explained: 0.8162784006694298 with (4 components)\n",
      "Varince explained: 0.9026182577543362 with (7 components)\n",
      "Varince explained: 0.9500278603509853 with (17 components)\n"
     ]
    }
   ],
   "source": [
    "# ~ 0.7\n",
    "X_train_llast_pca_var7, X_test_llast_pca_var7 = get_pca_data(X_train_llast, X_test_llast, n_components=2)\n",
    "# ~ 0.8\n",
    "X_train_llast_pca_var8, X_test_llast_pca_var8 = get_pca_data(X_train_llast, X_test_llast, n_components=4)\n",
    "# ~ 0.9\n",
    "X_train_llast_pca_var9, X_test_llast_pca_var9 = get_pca_data(X_train_llast, X_test_llast, n_components=7)\n",
    "# ~ 0.95\n",
    "X_train_llast_pca_var95, X_test_llast_pca_var95 = get_pca_data(X_train_llast, X_test_llast, n_components=17)"
   ]
  },
  {
   "cell_type": "markdown",
   "metadata": {},
   "source": [
    "Чтобы достичь разного уровня объясненной дисперсии на среднем слое, необходимо компонент:\n",
    "- для объясненной дисперсии 0.7 = 2\n",
    "- для объясненной дисперсии 0.8 = 4\n",
    "- для объясненной дисперсии 0.9 = 7\n",
    "- для объясненной дисперсии 0.95 = 17\n"
   ]
  },
  {
   "cell_type": "code",
   "execution_count": 49,
   "metadata": {},
   "outputs": [
    {
     "data": {
      "text/plain": [
       "98.17204301075269"
      ]
     },
     "execution_count": 49,
     "metadata": {},
     "output_type": "execute_result"
    }
   ],
   "source": [
    "100 - 17/930*100"
   ]
  },
  {
   "cell_type": "markdown",
   "metadata": {},
   "source": [
    "Чем глубже слой, тем более значимо меньше нам нужно компонент. Причем, скорее всего, где-то в модели есть переломный момент — когда уменьшение количества необхоимых компонент перстает значимо снижаться. Скорее всего, такой момент наступает после среднего слоя (от первого к центральному снижение на 65, 56, 46, 38 процентов для дисперсий 0.7, 0.8, 0.9, 0.95 соответственно, от центрального к последнему на 99, 98.7, 98.8, 98.1 процентов). "
   ]
  },
  {
   "cell_type": "markdown",
   "metadata": {},
   "source": [
    "## **Обучение зонда**\n",
    "\n",
    "Обучим модели на уровне сохраненной дисперсии 0.9. Прогнозировать будем года, спрогнозированные моделью, а не истинные, поскольку модель не всегда дает верный ответ и, кроме того, если его не дает, значит бесполезно искать знания о нём внутри. "
   ]
  },
  {
   "cell_type": "code",
   "execution_count": 51,
   "metadata": {},
   "outputs": [],
   "source": [
    "def get_probing_results(model, X_train, X_test, y_train, y_test, params='unknown'):\n",
    "\n",
    "    model.fit(X_train, y_train)\n",
    "    predictions = model.predict(X_test)\n",
    "\n",
    "    mae = mean_absolute_error(predictions, y_test)\n",
    "    mse = mean_squared_error(predictions, y_test)\n",
    "    r2 = r2_score(y_test, predictions)\n",
    "\n",
    "    metrics = [mae, mse, r2]\n",
    "\n",
    "    print(f'Metrics of experiment with params {params}, n_components {X_test.shape[1]} are: \\n')\n",
    "    print(f'MAE: {metrics[0]}')\n",
    "    print(f'MSE: {metrics[1]}')\n",
    "    print(f'R2: {metrics[2]}')\n",
    "\n",
    "    return model, predictions, metrics"
   ]
  },
  {
   "cell_type": "code",
   "execution_count": 95,
   "metadata": {},
   "outputs": [
    {
     "name": "stdout",
     "output_type": "stream",
     "text": [
      "Metrics of experiment with params First layer, explainde variance ~ 0.7, n_components 480 are: \n",
      "\n",
      "MAE: 17.297853451990363\n",
      "MSE: 683.7644788043879\n",
      "R2: 0.11219471647539803\n",
      "Metrics of experiment with params First layer, explainde variance ~ 0.8, n_components 700 are: \n",
      "\n",
      "MAE: 18.051567233928942\n",
      "MSE: 721.3754691616269\n",
      "R2: 0.06336030493045097\n",
      "Metrics of experiment with params First layer, explainde variance ~ 0.9, n_components 1100 are: \n",
      "\n",
      "MAE: 19.669277637791136\n",
      "MSE: 786.2851890695104\n",
      "R2: -0.02091899601698377\n",
      "Metrics of experiment with params First layer, explainde variance ~ 0.95, n_components 1500 are: \n",
      "\n",
      "MAE: 21.149835812019575\n",
      "MSE: 874.6913517361727\n",
      "R2: -0.13570626669948438\n"
     ]
    }
   ],
   "source": [
    "# l1\n",
    "from sklearn.tree import DecisionTreeRegressor\n",
    "lr_l1_var7 =LinearRegression()\n",
    "lr_l1_var8 =  LinearRegression() # LinearRegression()\n",
    "lr_l1_var9 = LinearRegression()\n",
    "lr_l1_var95 = LinearRegression()\n",
    "\n",
    "# _l1_var\n",
    "\n",
    "lr_l1_var7, pred_l1_var7, metrics_l1_var7 = get_probing_results(lr_l1_var7, X_train_l1_pca_var7, X_test_l1_pca_var7, y_train_pred, y_test_pred, params='First layer, explainde variance ~ 0.7')\n",
    "lr_l1_var8, pred_l1_var8, metrics_l1_var8 = get_probing_results(lr_l1_var8, X_train_l1_pca_var8, X_test_l1_pca_var8, y_train_pred, y_test_pred, params='First layer, explainde variance ~ 0.8')\n",
    "lr_l1_var9, pred_l1_var9, metrics_l1_var9 = get_probing_results(lr_l1_var9, X_train_l1_pca_var9, X_test_l1_pca_var9, y_train_pred, y_test_pred, params='First layer, explainde variance ~ 0.9')\n",
    "lr_l1_var95, pred_l1_var95, metrics_l1_var95 = get_probing_results(lr_l1_var95, X_train_l1_pca_var95, X_test_l1_pca_var95, y_train_pred, y_test_pred, params='First layer, explainde variance ~ 0.95')"
   ]
  },
  {
   "cell_type": "markdown",
   "metadata": {},
   "source": [
    "В среднем, на первом слое модель ошибается от истины на 19 лет. "
   ]
  },
  {
   "cell_type": "code",
   "execution_count": 219,
   "metadata": {},
   "outputs": [],
   "source": [
    "# # l1\n",
    "\n",
    "# lr_l1_var7 = LinearRegression()\n",
    "# lr_l1_var8 = LinearRegression()\n",
    "# lr_l1_var9 = LinearRegression()\n",
    "# lr_l1_var95 = LinearRegression()\n",
    "\n",
    "# # _l1_var\n",
    "\n",
    "# lr_l1_var7, pred_l1_var7, metrics_l1_var7 = get_probing_results(lr_l1_var7, X_train_l1_pca_var7, X_test_l1_pca_var7, y_train_act, y_test_act, params='First layer, explainde variance ~ 0.7')\n",
    "# lr_l1_var8, pred_l1_var8, metrics_l1_var8 = get_probing_results(lr_l1_var8, X_train_l1_pca_var8, X_test_l1_pca_var8, y_train_act, y_test_act, params='First layer, explainde variance ~ 0.8')\n",
    "# lr_l1_var9, pred_l1_var9, metrics_l1_var9 = get_probing_results(lr_l1_var9, X_train_l1_pca_var9, X_test_l1_pca_var9, y_train_act, y_test_act, params='First layer, explainde variance ~ 0.9')\n",
    "# lr_l1_var95, pred_l1_var95, metrics_l1_var95 = get_probing_results(lr_l1_var95, X_train_l1_pca_var95, X_test_l1_pca_var95, y_train_act, y_test_act, params='First layer, explainde variance ~ 0.95')"
   ]
  },
  {
   "cell_type": "markdown",
   "metadata": {},
   "source": [
    "Для истинных `y` MAE, MSE стабильно хуже. "
   ]
  },
  {
   "cell_type": "code",
   "execution_count": 97,
   "metadata": {},
   "outputs": [
    {
     "name": "stdout",
     "output_type": "stream",
     "text": [
      "Metrics of experiment with params Mid layer, explainde variance ~ 0.7, n_components 175 are: \n",
      "\n",
      "MAE: 17.135246038670143\n",
      "MSE: 632.7933489961332\n",
      "R2: 0.17837604024073028\n",
      "Metrics of experiment with params Mid layer, explainde variance ~ 0.8, n_components 310 are: \n",
      "\n",
      "MAE: 17.179455590534836\n",
      "MSE: 624.8519446838407\n",
      "R2: 0.18868722329514476\n",
      "Metrics of experiment with params Mid layer, explainde variance ~ 0.9, n_components 600 are: \n",
      "\n",
      "MAE: 17.642227146798977\n",
      "MSE: 617.1044122527994\n",
      "R2: 0.19874668154396136\n",
      "Metrics of experiment with params Mid layer, explainde variance ~ 0.95, n_components 930 are: \n",
      "\n",
      "MAE: 18.709702089120373\n",
      "MSE: 668.0634516179501\n",
      "R2: 0.13258105610692883\n"
     ]
    }
   ],
   "source": [
    "# lmid\n",
    "\n",
    "lr_lmid_var7 = LinearRegression()\n",
    "lr_lmid_var8 = LinearRegression()\n",
    "lr_lmid_var9 =  LinearRegression()\n",
    "lr_lmid_var95 = LinearRegression()\n",
    "\n",
    "# _lmid_var\n",
    "\n",
    "lr_lmid_var7, pred_lmid_var7, metrics_lmid_var7 = get_probing_results(lr_lmid_var7, X_train_lmid_pca_var7, X_test_lmid_pca_var7, y_train_pred, y_test_pred, params='Mid layer, explainde variance ~ 0.7')\n",
    "lr_lmid_var8, pred_lmid_var8, metrics_lmid_var8 = get_probing_results(lr_lmid_var8, X_train_lmid_pca_var8, X_test_lmid_pca_var8, y_train_pred, y_test_pred, params='Mid layer, explainde variance ~ 0.8')\n",
    "lr_lmid_var9, pred_lmid_var9, metrics_lmid_var9 = get_probing_results(lr_lmid_var9, X_train_lmid_pca_var9, X_test_lmid_pca_var9, y_train_pred, y_test_pred, params='Mid layer, explainde variance ~ 0.9')\n",
    "lr_lmid_var95, pred_lmid_var95, metrics_lmid_var95 = get_probing_results(lr_lmid_var95, X_train_lmid_pca_var95, X_test_lmid_pca_var95, y_train_pred, y_test_pred, params='Mid layer, explainde variance ~ 0.95')"
   ]
  },
  {
   "cell_type": "markdown",
   "metadata": {},
   "source": [
    "В среднем, на первом среднем модель ошибается от истины на 17 лет. "
   ]
  },
  {
   "cell_type": "code",
   "execution_count": 221,
   "metadata": {},
   "outputs": [],
   "source": [
    "# # lmid\n",
    "\n",
    "# lr_lmid_var7 = LinearRegression()\n",
    "# lr_lmid_var8 = LinearRegression()\n",
    "# lr_lmid_var9 = LinearRegression()\n",
    "# lr_lmid_var95 = LinearRegression()\n",
    "\n",
    "# # _lmid_var\n",
    "\n",
    "# lr_lmid_var7, pred_lmid_var7, metrics_lmid_var7 = get_probing_results(lr_lmid_var7, X_train_lmid_pca_var7, X_test_lmid_pca_var7,y_train_act, y_test_act, params='Mid layer, explainde variance ~ 0.7')\n",
    "# lr_lmid_var8, pred_lmid_var8, metrics_lmid_var8 = get_probing_results(lr_lmid_var8, X_train_lmid_pca_var8, X_test_lmid_pca_var8, y_train_act, y_test_act, params='Mid layer, explainde variance ~ 0.8')\n",
    "# lr_lmid_var9, pred_lmid_var9, metrics_lmid_var9 = get_probing_results(lr_lmid_var9, X_train_lmid_pca_var9, X_test_lmid_pca_var9, y_train_act, y_test_act, params='Mid layer, explainde variance ~ 0.9')\n",
    "# lr_lmid_var95, pred_lmid_var95, metrics_lmid_var95 = get_probing_results(lr_lmid_var95, X_train_lmid_pca_var95, X_test_lmid_pca_var95, y_train_act, y_test_act, params='Mid layer, explainde variance ~ 0.95')"
   ]
  },
  {
   "cell_type": "markdown",
   "metadata": {},
   "source": [
    "Для истинных `y` MAE, MSE стабильно хуже. "
   ]
  },
  {
   "cell_type": "code",
   "execution_count": 133,
   "metadata": {},
   "outputs": [
    {
     "name": "stdout",
     "output_type": "stream",
     "text": [
      "Metrics of experiment with params Last layer, explainde variance ~ 0.7, n_components 2 are: \n",
      "\n",
      "MAE: 14.677540603294403\n",
      "MSE: 769.4639636512902\n",
      "R2: 0.0009218179834264983\n",
      "Metrics of experiment with params Last layer, explainde variance ~ 0.8, n_components 4 are: \n",
      "\n",
      "MAE: 14.672357637475264\n",
      "MSE: 767.5248981727561\n",
      "R2: 0.003439516153347366\n",
      "Metrics of experiment with params Last layer, explainde variance ~ 0.9, n_components 7 are: \n",
      "\n",
      "MAE: 14.804458125897948\n",
      "MSE: 753.6630034662152\n",
      "R2: 0.021437911421916866\n",
      "Metrics of experiment with params Last layer, explainde variance ~ 0.95, n_components 17 are: \n",
      "\n",
      "MAE: 15.265246150209196\n",
      "MSE: 741.628232098107\n",
      "R2: 0.037063955093123324\n"
     ]
    }
   ],
   "source": [
    "# llast\n",
    "\n",
    "lr_llast_var7 = LinearRegression()\n",
    "lr_llast_var8 = LinearRegression()\n",
    "lr_llast_var9 = LinearRegression()\n",
    "lr_llast_var95 = LinearRegression()\n",
    "\n",
    "# _lmid_var\n",
    "\n",
    "lr_llast_var7, pred_llast_var7, metrics_llastvar7 = get_probing_results(lr_llast_var7, X_train_llast_pca_var7, X_test_llast_pca_var7, y_train_pred, y_test_pred, params='Last layer, explainde variance ~ 0.7')\n",
    "lr_llast_var8, pred_llast_var8, metrics_llast_var8 = get_probing_results(lr_llast_var8, X_train_llast_pca_var8, X_test_llast_pca_var8, y_train_pred, y_test_pred, params='Last layer, explainde variance ~ 0.8')\n",
    "lr_llast_var9, pred_llast_var9, metrics_llast_var9 = get_probing_results(lr_llast_var9, X_train_llast_pca_var9, X_test_llast_pca_var9, y_train_pred, y_test_pred, params='Last layer, explainde variance ~ 0.9')\n",
    "lr_llast_var95, pred_llast_var95, metrics_llast_var95 = get_probing_results(lr_llast_var95, X_train_llast_pca_var95, X_test_llast_pca_var95, y_train_pred, y_test_pred, params='Last layer, explainde variance ~ 0.95')"
   ]
  },
  {
   "cell_type": "markdown",
   "metadata": {},
   "source": [
    "В среднем, на первом слое модель ошибается от истины на 14 лет. "
   ]
  },
  {
   "cell_type": "code",
   "execution_count": 134,
   "metadata": {},
   "outputs": [],
   "source": [
    "# # llast\n",
    "\n",
    "# lr_llast_var7 = LinearRegression()\n",
    "# lr_llast_var8 = LinearRegression()\n",
    "# lr_llast_var9 = LinearRegression()\n",
    "# lr_llast_var95 = LinearRegression()\n",
    "\n",
    "# # _lmid_var\n",
    "\n",
    "# lr_llast_var7, pred_llast_var7, metrics_llastvar7 = get_probing_results(lr_llast_var7, X_train_llast_pca_var7, X_test_llast_pca_var7, y_train_act, y_test_act, params='Last layer, explainde variance ~ 0.7')\n",
    "# lr_llast_var8, pred_llast_var8, metrics_llast_var8 = get_probing_results(lr_llast_var8, X_train_llast_pca_var8, X_test_llast_pca_var8, y_train_act, y_test_act, params='Last layer, explainde variance ~ 0.8')\n",
    "# lr_llast_var9, pred_llast_var9, metrics_llast_var9 = get_probing_results(lr_llast_var9, X_train_llast_pca_var9, X_test_llast_pca_var9, y_train_act, y_test_act, params='Last layer, explainde variance ~ 0.9')\n",
    "# lr_llast_var95, pred_llast_var95, metrics_llast_var95 = get_probing_results(lr_llast_var95, X_train_llast_pca_var95, X_test_llast_pca_var95, y_train_act, y_test_act, params='Last layer, explainde variance ~ 0.95')"
   ]
  },
  {
   "cell_type": "markdown",
   "metadata": {},
   "source": [
    "Для истинных `y` MAE, MSE стабильно хуже. "
   ]
  },
  {
   "cell_type": "markdown",
   "metadata": {},
   "source": [
    "### **Выводы**\n",
    "\n",
    "Лучшая модель по результату получается на среднем слое. Это позволяет выдвинуть гипотезу о том, что, если в модели отдельно представлена информации, связанныя с числами, то она представлена ближе к центру. Но почему $R^2$ стабильно меньше или около нуля? Посмотрим на прогнозы"
   ]
  },
  {
   "cell_type": "markdown",
   "metadata": {},
   "source": [
    "# **Анализ прогнозов**"
   ]
  },
  {
   "cell_type": "code",
   "execution_count": 135,
   "metadata": {},
   "outputs": [],
   "source": [
    "import matplotlib.pyplot as plt\n",
    "\n",
    "def get_plot(y_preds, y_actual, titles):\n",
    "\n",
    "    fig, ax = plt.subplots(1, len(y_preds), figsize=(20, 4))\n",
    "\n",
    "    for i in range(0, len(y_preds)):\n",
    "        ax[i].scatter(y_preds[i], y_actual)\n",
    "        ax[i].set_title(titles[i])\n",
    "        ax[i].set_xlabel('predictions')\n",
    "        ax[i].set_ylabel('target')"
   ]
  },
  {
   "cell_type": "code",
   "execution_count": 136,
   "metadata": {},
   "outputs": [],
   "source": [
    "# get_plot([pred_l1_var7, pred_l1_var8, pred_l1_var9, pred_l1_var95], y_test_pred, ['First layer, variance = 0.7\\n n_comp=480', 'First layer, variance = 0.8\\n n_comp=700', \n",
    "#                                                                                   'First layer, variance = 0.9\\n n_comp=1100', 'First layer, variance = 0.95\\n n_comp=1500'])"
   ]
  },
  {
   "cell_type": "code",
   "execution_count": 129,
   "metadata": {},
   "outputs": [],
   "source": [
    "# get_plot([pred_lmid_var7, pred_lmid_var8, pred_lmid_var9, pred_lmid_var95], y_test_pred, ['Mid layer, variance = 0.7\\n n_comp=175', 'Mid layer, variance = 0.8\\n n_comp=310', \n",
    "#                                                                                   'Mid layer, variance = 0.9\\n n_comp=600', 'Mid layer, variance = 0.95\\n n_comp=930'])"
   ]
  },
  {
   "cell_type": "code",
   "execution_count": 130,
   "metadata": {},
   "outputs": [],
   "source": [
    "# get_plot([pred_llast_var7, pred_llast_var8, pred_llast_var9, pred_llast_var95], y_test_pred, ['Mid layer, variance = 0.7\\n n_comp=2', 'Mid layer, variance = 0.8\\n n_comp=4', \n",
    "#                                                                                   'Mid layer, variance = 0.9\\n n_comp=7', 'Mid layer, variance = 0.95\\n n_comp=17'])"
   ]
  },
  {
   "cell_type": "code",
   "execution_count": 131,
   "metadata": {},
   "outputs": [
    {
     "data": {
      "image/png": "[encoded data removed]",
      "text/plain": [
       "<Figure size 2000x400 with 3 Axes>"
      ]
     },
     "metadata": {},
     "output_type": "display_data"
    }
   ],
   "source": [
    "get_plot([pred_l1_var9, pred_lmid_var9, pred_llast_var9], y_test_pred, ['First layer', 'Middle layer', 'Last layer'])"
   ]
  },
  {
   "cell_type": "code",
   "execution_count": 132,
   "metadata": {},
   "outputs": [
    {
     "data": {
      "text/plain": [
       "Text(0.5, 1.0, 'y pred last layer (probing results)')"
      ]
     },
     "execution_count": 132,
     "metadata": {},
     "output_type": "execute_result"
    },
    {
     "data": {
      "image/png": "[encoded data removed]",
      "text/plain": [
       "<Figure size 2000x400 with 4 Axes>"
      ]
     },
     "metadata": {},
     "output_type": "display_data"
    }
   ],
   "source": [
    "fig, ax = plt.subplots(1, 4, figsize=(20, 4))\n",
    "\n",
    "ax[0].hist(y_pred, bins=20)\n",
    "ax[0].set_title('y pred actual')\n",
    "ax[1].hist(pred_l1_var9, bins=20);\n",
    "ax[1].set_title('y pred first layer (probing results)')\n",
    "ax[2].hist(pred_lmid_var9, bins=20);\n",
    "ax[2].set_title('y pred mid layer (probing results)')\n",
    "ax[3].hist(pred_llast_var9, bins=20);\n",
    "ax[3].set_title('y pred last layer (probing results)')"
   ]
  },
  {
   "cell_type": "markdown",
   "metadata": {},
   "source": [
    "Прогнозы модели истинной модели кусочны, причем большая часть сконцентрирована около 1860-1900 годов. Прогнозы же линейных моделей похожи на нормальное распределение. Эти факты делают второе слагаемое в $r^2$ большим, так как в целом линейная модель требует нормального распределения целевой переменной. Можно попробовать decision tree. Оно переобучается, но дает картинку лучше. "
   ]
  },
  {
   "cell_type": "code",
   "execution_count": 112,
   "metadata": {},
   "outputs": [
    {
     "data": {
      "image/png": "[encoded data removed]",
      "text/plain": [
       "<Figure size 640x480 with 1 Axes>"
      ]
     },
     "metadata": {},
     "output_type": "display_data"
    }
   ],
   "source": [
    "fig, ax = plt.subplots()\n",
    "\n",
    "ax.scatter(y_test_pred, y_test_act)\n",
    "ax.set_title('Predictions vs actual');"
   ]
  },
  {
   "cell_type": "code",
   "execution_count": 141,
   "metadata": {},
   "outputs": [
    {
     "data": {
      "text/plain": [
       "(3       1993.0\n",
       " 11      1970.0\n",
       " 13      1979.0\n",
       " 26      1970.0\n",
       " 28      1988.0\n",
       "          ...  \n",
       " 5391    1970.0\n",
       " 5439    1994.0\n",
       " 5443    1988.0\n",
       " 5461    1988.0\n",
       " 5466    1970.0\n",
       " Name: y_pred, Length: 405, dtype: float64,\n",
       " 8.914813999559762)"
      ]
     },
     "execution_count": 141,
     "metadata": {},
     "output_type": "execute_result"
    }
   ],
   "source": [
    "y_pred[y_pred > 1900], 405/4543*100"
   ]
  },
  {
   "cell_type": "markdown",
   "metadata": {},
   "source": [
    "Выводы:\n",
    "\n",
    "Анализ зонда позволил приблизиться к оценке расположения знаний внутри модели. В случае эксперимента в туториале, лучшими оказались средние слои, что не всегда справедливо. Кроме того, сам анализ зондов можно улучшать, например строить не линейную модель (например, дерево) или ограничить анализ прогнозами до 1900 года (так как других прогнозов всего 8.9% от данных). Надеюсь, туториал станет хорошей отправной точкой для вас! \n",
    "\n",
    "Благодарю за ваше время! Присоединяйтесь к [каналу в телеграм](https://t.me/jdata_blog), чтобы видеть новые туториалы :) Также приглашаю пройти мой [rурс](https://stepik.org/a/198640) по explainable AI и, конечно, буду рада видеть в сети [LinkedIn](https://www.linkedin.com/in/sabrina-sadiekh-35181a286/).\n",
    "\n",
    "Успешных вам проектов!\n",
    "Ваш Дата-автор!"
   ]
  },
  {
   "cell_type": "markdown",
   "metadata": {},
   "source": []
  }
 ],
 "metadata": {
  "kernelspec": {
   "display_name": ".venv",
   "language": "python",
   "name": "python3"
  },
  "language_info": {
   "codemirror_mode": {
    "name": "ipython",
    "version": 3
   },
   "file_extension": ".py",
   "mimetype": "text/x-python",
   "name": "python",
   "nbconvert_exporter": "python",
   "pygments_lexer": "ipython3",
   "version": "3.12.5"
  }
 },
 "nbformat": 4,
 "nbformat_minor": 2
}
