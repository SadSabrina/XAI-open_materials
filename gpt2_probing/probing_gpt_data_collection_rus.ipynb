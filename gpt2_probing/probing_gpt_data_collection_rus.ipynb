{
  "cells": [
    {
      "cell_type": "markdown",
      "id": "qQEvBYe0Qwru",
      "metadata": {
        "id": "qQEvBYe0Qwru"
      },
      "source": [
        "# **Probing GPT model**\n",
        "\n",
        "Этот туториал посвящён зондированию (probing) — простому, но мощному методу для изучения внутренней работы LLM (больших языковых моделей). С его помощью можно получить приближенные знания о паттернах, которые выучивает модель и о том, как эти знания распространяются по слоям. \n",
        "\n",
        "### **Идея зондирования**\n",
        "\n",
        "Подадим в модель входной текст $x$, получив прогноз $output$. Сохраним и рассмотрим цепочку скрытых состояний:\n",
        "\n",
        "$$x \\to hidden_1 \\to hidden_2 \\to \\dots \\to hidden_n \\to output$$\n",
        "\n",
        "где $hidden_i$ —  векторное представление входного из $x$ на $i$ слое. \n",
        "\n",
        "Если применить к $hidden_i$, собранным с определенных данных модели, можно сформировать гипотезы для ответа на вопросы:\n",
        "\n",
        "- Есть ли в $hidden_i$ семантическая информация о частях речи? (собираем представления и решаем задачу классификации на аннотированных данных)\n",
        "- Где закодированы знания о фактах или концептах, которые модель \"выучила\" из данных? (аналогично предыдущему)\n",
        "\n",
        "Справедливо, что зондирование требует рутинной разметки, однако она не всегда сложна. В туториале рассмотрим:\n",
        "\n",
        "1. Процесс зондирования на примере GPT2;\n",
        "2. Анализ информативности скрытых состояний с помощью PCA;\n",
        "3. Постановку эксперимента (и сам эксперимент) для ответа на вопрос: какой слой по уровню позволяет приближенно решить задачу регресси и хранит информацию по годам?;\n",
        "\n",
        "\n",
        "### **Постановка задачи — где в модели хранятся знания о датах?**\n",
        "\n",
        "Пусть у нас есть генеративная модель. Поставим вопрос: **где именно эта модель \"знает\", в какие годы жил тот или иной человек?**  \n",
        "\n",
        "Для этого нам нужно:\n",
        "\n",
        "1. Создать набор данных: пары вида (вопрос: \"Когда родился Ньютон?\", ответ: \"1643\").\n",
        "2. Попустить вопросы через модель и извлекаем скрытые состояния с разных слоёв.\n",
        "3. Извлечь спрогнозированную дату;\n",
        "4. Обучить зонд, который предсказывает дату на основе скрытого состояния.\n",
        "5. Проанализировать, на каких слоях модель наиболее эффективно хранит информацию о датах.\n",
        "\n",
        "Приступим. \n",
        "\n",
        "\n",
        "Original: https://ai-office-hours.beehiiv.com/p/llm-probing\n",
        "\n",
        "paper https://arxiv.org/pdf/2310.02207.pdf"
      ]
    },
    {
      "cell_type": "code",
      "execution_count": 2,
      "id": "V2xF4Fe_V2BC",
      "metadata": {
        "id": "V2xF4Fe_V2BC"
      },
      "outputs": [],
      "source": [
        "#!pip install datasets==3.2.0 -q"
      ]
    },
    {
      "cell_type": "code",
      "execution_count": 3,
      "id": "1LGtOjMhDcAM",
      "metadata": {
        "id": "1LGtOjMhDcAM"
      },
      "outputs": [
        {
          "name": "stderr",
          "output_type": "stream",
          "text": [
            "/Users/sabrinasadieh/Code/XAI-open_materials/.venv/lib/python3.12/site-packages/tqdm/auto.py:21: TqdmWarning: IProgress not found. Please update jupyter and ipywidgets. See https://ipywidgets.readthedocs.io/en/stable/user_install.html\n",
            "  from .autonotebook import tqdm as notebook_tqdm\n"
          ]
        }
      ],
      "source": [
        "import torch\n",
        "import random\n",
        "import json\n",
        "import re\n",
        "\n",
        "import numpy as np\n",
        "import pandas as pd\n",
        "\n",
        "#from datasets import load_dataset\n",
        "from transformers import GPT2Tokenizer, GPT2LMHeadModel\n",
        "from tqdm.auto import tqdm\n",
        "# suppress sklearn warning\n",
        "import warnings; warnings.filterwarnings(\"ignore\")"
      ]
    },
    {
      "cell_type": "markdown",
      "id": "RiSF-AoFYYEl",
      "metadata": {
        "id": "RiSF-AoFYYEl"
      },
      "source": [
        "\n",
        "\n",
        "\n",
        "### **Модель GPT-2**\n",
        "GPT-2 — это трансформер, состоящий из блоков (transformer layers). Для начала загрузим модель и посмотрим на пример её работы. В ходе анализа будем использовать `gpt2-medium`, обученный на `WebText`. Подробно про модель можно почитать в [статье](https://cdn.openai.com/better-language-models/language_models_are_unsupervised_multitask_learners.pdf), но для себя зафиксируем, что особенности датасета, на котором обучена модель, таковы:\n",
        "\n",
        "- Нет страниц википедии;\n",
        "- Знания для модели собраны до 2019 года;\n",
        "- Сбор данных проводился на основе статей на `Reddit` с фильтрацией по пользовательскому голосу >3;\n",
        "\n",
        "\n",
        "Также, зафиксируем, что когда мы передаём текст в модель, происхожит следующее:\n",
        "\n",
        "1. Текст разбивается на токены (например, `\"Albert\"` → `15433`, `\"Einstein\"` → `8372`).\n",
        "2. Каждый токен превращается в векторное представление (embedding).\n",
        "3. Вектора передаются через несколько слоёв трансформера\n",
        "   - Последние слои добавляют всё больше информации о контексте.\n",
        "4. На выходе каждого слоя получаем *последовательность* скрытых состояни1 и итоговый прогноз, которые постепенно «насыщаются» контекстом.\n",
        "\n"
      ]
    },
    {
      "cell_type": "code",
      "execution_count": 5,
      "id": "3WlfVgrbsdWj",
      "metadata": {
        "colab": {
          "base_uri": "https://localhost:8080/"
        },
        "id": "3WlfVgrbsdWj",
        "outputId": "19e88ffd-3715-49b1-edaa-d8ca4ac2260e"
      },
      "outputs": [
        {
          "name": "stderr",
          "output_type": "stream",
          "text": [
            "Setting `pad_token_id` to `eos_token_id`:50256 for open-end generation.\n"
          ]
        },
        {
          "name": "stdout",
          "output_type": "stream",
          "text": [
            "When was Albert Einstein Born?\n",
            "\n",
            "Albert Einstein was born on November 20, 1879, in\n"
          ]
        }
      ],
      "source": [
        "# Загружаем токенизатор и модель\n",
        "tokenizer = GPT2Tokenizer.from_pretrained('gpt2-medium')\n",
        "model = GPT2LMHeadModel.from_pretrained('gpt2-medium')\n",
        "\n",
        "# Установка устройства (GPU, если доступно)\n",
        "# device = torch.device(\"cuda\" if torch.cuda.is_available() else \"cpu\")\n",
        "# model = model.to(device)\n",
        "\n",
        "# Исходный текст\n",
        "text = \"When was Albert Einstein Born?\"\n",
        "encoded_input = tokenizer(text, return_tensors='pt') #.to(device)\n",
        "\n",
        "# Генерируем продолжение текста\n",
        "with torch.no_grad():\n",
        "  # = model(**encoded_input)\n",
        "  output_ids = model.generate(**encoded_input, max_length=20)\n",
        "\n",
        "# Декодируем токены обратно в текст\n",
        "decoded_output = tokenizer.decode(output_ids[0], skip_special_tokens=True)\n",
        "\n",
        "print(decoded_output)"
      ]
    },
    {
      "cell_type": "markdown",
      "id": "H9qpISPDltk0",
      "metadata": {
        "id": "H9qpISPDltk0"
      },
      "source": [
        "Модель *с генерацией ответа,* выолняет, в нашем случае, задачу ответа на вопрос. Постепенно доработаем код так, чтобы из ответа извлекать только год. Ограничимся годами с 1800 до 2019. \n",
        "\n",
        "Извлекать год будем с помощью регулярных выражений."
      ]
    },
    {
      "cell_type": "code",
      "execution_count": 6,
      "id": "Mjb5ri_XszR3",
      "metadata": {
        "colab": {
          "base_uri": "https://localhost:8080/"
        },
        "id": "Mjb5ri_XszR3",
        "outputId": "03da4a10-d6bd-4cfc-f590-eaf3e70dc9fa"
      },
      "outputs": [
        {
          "name": "stdout",
          "output_type": "stream",
          "text": [
            "Extracted year: 2000\n"
          ]
        }
      ],
      "source": [
        "# регулярка для поиска годв\n",
        "\n",
        "pattern = r\"\\b(1[89][0-9]{2}|20[01][0-9])(?:[s’']{0,2}|th)?\\b\"\n",
        "example = \"In the 2000s, I fell in love with cats.\"\n",
        "\n",
        "match_ = re.search(pattern, example)\n",
        "\n",
        "year = match_.group(1) if match_ else None\n",
        "\n",
        "print(\"Extracted year:\", year)"
      ]
    },
    {
      "cell_type": "markdown",
      "id": "877859b7",
      "metadata": {},
      "source": [
        "### **Подготовка данных и сбор hidden states**"
      ]
    },
    {
      "cell_type": "markdown",
      "id": "1z8RShJlot2C",
      "metadata": {
        "id": "1z8RShJlot2C"
      },
      "source": [
        "Скрытые состояния (hidden states)— это **внутренние представления** входного текста внутри модели. Они формируются после обработки данных каждым слоем нейросети и содержат закодированную информацию о тексте. *\"Что содержат скрытые состояния?\"*  — открытый вопрос. Есть ряд исследований, показывающий что на разных уровнях содержится разная семантическая информация. Например, на ранних слоях — информация о частях речи и месте слова в предложении, а на поздних — значение слова. Но эта интерпретация не универсальна и в частности зондирование — попытка понимания внутренних процессов в модели.\n",
        "\n",
        "\n",
        "### **Как получить скрытые состояния в Hugging Face?**\n",
        "Если модель поддерживает `output_hidden_states=True`, то после обработки текста мы можем достать их так:\n",
        "\n",
        "```python\n",
        "outputs = model(**encoded_input)\n",
        "hidden_states = outputs.hidden_states  # Это кортеж из N тензоров (по числу слоёв)\n",
        "```\n",
        "\n",
        "- `hidden_states[0]` — первый слой\n",
        "- `hidden_states[-1]` — последний слой  \n",
        "- `hidden_states[len(hidden_states) // 2]` — центральный слой  \n",
        "\n",
        "Форма скрытых состояний:  \n",
        "```\n",
        "(batch_size, sequence_length, hidden_dim)\n",
        "```\n",
        "Например, для `gpt2-medium`:\n",
        "```\n",
        "(1, 6, 1024)  # 6 токенов, каждый представлен 1024-мерным вектором\n",
        "```"
      ]
    },
    {
      "cell_type": "code",
      "execution_count": 7,
      "id": "XvK0cVV7r5af",
      "metadata": {
        "id": "XvK0cVV7r5af"
      },
      "outputs": [],
      "source": [
        "tokenizer.pad_token = tokenizer.eos_token"
      ]
    },
    {
      "cell_type": "code",
      "execution_count": 8,
      "id": "STfZhQzDY34G",
      "metadata": {
        "colab": {
          "base_uri": "https://localhost:8080/"
        },
        "id": "STfZhQzDY34G",
        "outputId": "90b34d4a-7b9e-4a25-8163-74bd898e4460"
      },
      "outputs": [
        {
          "name": "stderr",
          "output_type": "stream",
          "text": [
            "Setting `pad_token_id` to `eos_token_id`:50256 for open-end generation.\n",
            "A decoder-only architecture is being used, but right-padding was detected! For correct generation results, please set `padding_side='left'` when initializing the tokenizer.\n"
          ]
        }
      ],
      "source": [
        "# Исходный текст\n",
        "texts = [\"When was Albert Einstein born?\", \"When was Frida Kahlo born?\", \"When was Claus Hammel born?\"]\n",
        "encoded_input = tokenizer(texts, return_tensors='pt', padding=True, truncation=True)\n",
        "\n",
        "# Прогоняем через модель и получаем скрытые состояния\n",
        "with torch.no_grad():\n",
        "    outputs = model(**encoded_input, output_hidden_states=True)\n",
        "    output_ids = model.generate(**encoded_input, max_length=30)\n",
        "    hidden_states = outputs.hidden_states  # Все скрытые состояния (tuple из 25 слоёв)"
      ]
    },
    {
      "cell_type": "markdown",
      "id": "5RBul_kuxdm_",
      "metadata": {
        "id": "5RBul_kuxdm_"
      },
      "source": [
        "Посмотрим, как выглядят размеры hidden_states"
      ]
    },
    {
      "cell_type": "code",
      "execution_count": 9,
      "id": "BJH6WRwBxdQx",
      "metadata": {
        "colab": {
          "base_uri": "https://localhost:8080/"
        },
        "id": "BJH6WRwBxdQx",
        "outputId": "bf275f41-7515-4d82-c773-fb78267e7296"
      },
      "outputs": [
        {
          "name": "stdout",
          "output_type": "stream",
          "text": [
            "First layer shape: torch.Size([3, 8, 1024])\n",
            "Middle layer shape: torch.Size([3, 8, 1024])\n",
            "Last layer shape: torch.Size([3, 8, 1024])\n"
          ]
        }
      ],
      "source": [
        "# Получаем скрытые состояния (первый, центральный и последний слои)\n",
        "first_layer = hidden_states[0]  # Первый слой\n",
        "middle_layer = hidden_states[len(hidden_states) // 2]  # Центральный слой\n",
        "last_layer = hidden_states[-1]  # Последний слой\n",
        "\n",
        "# Вывод размеров скрытых состояний\n",
        "print(\"First layer shape:\", first_layer.shape)  # (batch_size, seq_len, hidden_dim)\n",
        "print(\"Middle layer shape:\", middle_layer.shape)\n",
        "print(\"Last layer shape:\", last_layer.shape)"
      ]
    },
    {
      "cell_type": "code",
      "execution_count": 10,
      "id": "ZORbgFCwwy42",
      "metadata": {
        "colab": {
          "base_uri": "https://localhost:8080/"
        },
        "id": "ZORbgFCwwy42",
        "outputId": "9cd54aa6-6dcb-4fdc-db90-d9fb559036a0"
      },
      "outputs": [
        {
          "name": "stdout",
          "output_type": "stream",
          "text": [
            "When was Albert Einstein born?The answer is: in 1879. Einstein was born in Vienna, Austria, and died in New York City\n",
            "\n",
            "When was Frida Kahlo born?\n",
            "\n",
            "Frida Kahlo was born on November 28, 1894, in the small town of La Pl\n",
            "\n",
            "When was Claus Hammel born?The answer is: in 1848. He was born in the town of St. Paul, Minnesota, and\n",
            "\n"
          ]
        }
      ],
      "source": [
        "# Декодируем ответ модели\n",
        "decoded_output = [tokenizer.decode(i, skip_special_tokens=True) for i in output_ids]\n",
        "\n",
        "for i in decoded_output:\n",
        "  print(i + '\\n') #print(\"Generated text:\", decoded_output)\n"
      ]
    },
    {
      "cell_type": "code",
      "execution_count": 11,
      "id": "K68TD9q1xJcs",
      "metadata": {
        "colab": {
          "base_uri": "https://localhost:8080/"
        },
        "id": "K68TD9q1xJcs",
        "outputId": "c249bd37-4e93-47f0-fec4-a9b78397c65e"
      },
      "outputs": [
        {
          "name": "stdout",
          "output_type": "stream",
          "text": [
            "Extracted years: ['1879', '1894', '1848']\n"
          ]
        }
      ],
      "source": [
        "# Извлечем года\n",
        "\n",
        "pattern = r\"\\b(1[89][0-9]{2}|20[01][0-9])(?:[s’']{0,2}|th)?\\b\"\n",
        "\n",
        "years = []\n",
        "\n",
        "for i in decoded_output:\n",
        "  match_ = re.search(pattern, i)\n",
        "  year = match_.group(0) if match_ else None\n",
        "  years.append(year)\n",
        "\n",
        "print(\"Extracted years:\", years)"
      ]
    },
    {
      "cell_type": "code",
      "execution_count": 12,
      "id": "htzqFteorzLB",
      "metadata": {
        "colab": {
          "base_uri": "https://localhost:8080/"
        },
        "id": "htzqFteorzLB",
        "outputId": "236c2395-1526-47d0-a050-a1fba202f096"
      },
      "outputs": [
        {
          "name": "stdout",
          "output_type": "stream",
          "text": [
            "Input: When was Albert Einstein born?\n",
            "Generated year: 1879\n",
            "\n",
            "Input: When was Frida Kahlo born?\n",
            "Generated year: 1894\n",
            "\n",
            "Input: When was Claus Hammel born?\n",
            "Generated year: 1848\n",
            "\n"
          ]
        }
      ],
      "source": [
        "# Выводим результаты\n",
        "for text, year in zip(texts, years):\n",
        "    print(f\"Input: {text}\")\n",
        "    print(f\"Generated year: {year}\")\n",
        "    print()\n"
      ]
    },
    {
      "cell_type": "markdown",
      "id": "9pLZGcqrykcR",
      "metadata": {
        "id": "9pLZGcqrykcR"
      },
      "source": [
        "### **Набор данных**\n",
        "\n",
        "Будем работать с [people dataset](https://www.nature.com/articles/s41597-022-01369-4), предобработанным и очищенным для данного эксперимента. Датасет, необходимый для работы вы можете скачать с [google disc](https://drive.google.com/file/d/1QbEbJlABsbhzyKfQ6L4ES1rH3wbbuPfG/view?usp=sharing). "
      ]
    },
    {
      "cell_type": "code",
      "execution_count": 13,
      "id": "B5oTb9R3oGAQ",
      "metadata": {
        "id": "B5oTb9R3oGAQ"
      },
      "outputs": [],
      "source": [
        "#people_dataset = people_dataset.to_pandas() # скачать оригинальный датасет"
      ]
    },
    {
      "cell_type": "code",
      "execution_count": 14,
      "id": "1ZXtmOPe6QH-",
      "metadata": {
        "colab": {
          "base_uri": "https://localhost:8080/"
        },
        "id": "1ZXtmOPe6QH-",
        "outputId": "5323fbaa-ac1c-451f-a0f5-07df80765835"
      },
      "outputs": [],
      "source": [
        "#!wget"
      ]
    },
    {
      "cell_type": "code",
      "execution_count": 15,
      "id": "TJtLvvJL6uAl",
      "metadata": {
        "colab": {
          "base_uri": "https://localhost:8080/"
        },
        "id": "TJtLvvJL6uAl",
        "outputId": "3232834e-45a9-46a6-c462-c60fef3df8b9"
      },
      "outputs": [],
      "source": [
        "#!unzip "
      ]
    },
    {
      "cell_type": "code",
      "execution_count": 16,
      "id": "3vu0TIzo6wqD",
      "metadata": {
        "id": "3vu0TIzo6wqD"
      },
      "outputs": [],
      "source": [
        "most_popular = pd.read_csv('//Users/sabrinasadieh/Code/XAI-open_materials/gpt2_probing/people_dataset_prepared_most_popular.csv')"
      ]
    },
    {
      "cell_type": "code",
      "execution_count": 17,
      "id": "AAzrQlLO1ZZ3",
      "metadata": {
        "colab": {
          "base_uri": "https://localhost:8080/",
          "height": 260
        },
        "id": "AAzrQlLO1ZZ3",
        "outputId": "65e1deed-870d-4334-8c02-94032dc45c0c"
      },
      "outputs": [
        {
          "data": {
            "text/html": [
              "<div>\n",
              "<style scoped>\n",
              "    .dataframe tbody tr th:only-of-type {\n",
              "        vertical-align: middle;\n",
              "    }\n",
              "\n",
              "    .dataframe tbody tr th {\n",
              "        vertical-align: top;\n",
              "    }\n",
              "\n",
              "    .dataframe thead th {\n",
              "        text-align: right;\n",
              "    }\n",
              "</style>\n",
              "<table border=\"1\" class=\"dataframe\">\n",
              "  <thead>\n",
              "    <tr style=\"text-align: right;\">\n",
              "      <th></th>\n",
              "      <th>name</th>\n",
              "      <th>birth</th>\n",
              "      <th>death</th>\n",
              "      <th>wiki_readers_2015_2018</th>\n",
              "      <th>birth_min</th>\n",
              "      <th>birth_max</th>\n",
              "      <th>death_min</th>\n",
              "      <th>death_max</th>\n",
              "    </tr>\n",
              "  </thead>\n",
              "  <tbody>\n",
              "    <tr>\n",
              "      <th>0</th>\n",
              "      <td>Karel Matěj Čapek-Chod</td>\n",
              "      <td>1860.0</td>\n",
              "      <td>1927.0</td>\n",
              "      <td>25008</td>\n",
              "      <td>1860.0</td>\n",
              "      <td>1860.0</td>\n",
              "      <td>1927.0</td>\n",
              "      <td>1927.0</td>\n",
              "    </tr>\n",
              "    <tr>\n",
              "      <th>1</th>\n",
              "      <td>Florian Eichinger</td>\n",
              "      <td>1971.0</td>\n",
              "      <td>NaN</td>\n",
              "      <td>27285</td>\n",
              "      <td>1971.0</td>\n",
              "      <td>1971.0</td>\n",
              "      <td>NaN</td>\n",
              "      <td>NaN</td>\n",
              "    </tr>\n",
              "    <tr>\n",
              "      <th>2</th>\n",
              "      <td>Florian Jahr</td>\n",
              "      <td>1983.0</td>\n",
              "      <td>NaN</td>\n",
              "      <td>37331</td>\n",
              "      <td>1983.0</td>\n",
              "      <td>1983.0</td>\n",
              "      <td>NaN</td>\n",
              "      <td>NaN</td>\n",
              "    </tr>\n",
              "    <tr>\n",
              "      <th>3</th>\n",
              "      <td>Tadeusz Borowski</td>\n",
              "      <td>1922.0</td>\n",
              "      <td>1951.0</td>\n",
              "      <td>341110</td>\n",
              "      <td>1922.0</td>\n",
              "      <td>1922.0</td>\n",
              "      <td>1951.0</td>\n",
              "      <td>1951.0</td>\n",
              "    </tr>\n",
              "    <tr>\n",
              "      <th>4</th>\n",
              "      <td>Joseph C. O'Mahoney</td>\n",
              "      <td>1884.0</td>\n",
              "      <td>1962.0</td>\n",
              "      <td>15428</td>\n",
              "      <td>1884.0</td>\n",
              "      <td>1884.0</td>\n",
              "      <td>1962.0</td>\n",
              "      <td>1962.0</td>\n",
              "    </tr>\n",
              "  </tbody>\n",
              "</table>\n",
              "</div>"
            ],
            "text/plain": [
              "                     name   birth   death  wiki_readers_2015_2018  birth_min  \\\n",
              "0  Karel Matěj Čapek-Chod  1860.0  1927.0                   25008     1860.0   \n",
              "1       Florian Eichinger  1971.0     NaN                   27285     1971.0   \n",
              "2            Florian Jahr  1983.0     NaN                   37331     1983.0   \n",
              "3        Tadeusz Borowski  1922.0  1951.0                  341110     1922.0   \n",
              "4     Joseph C. O'Mahoney  1884.0  1962.0                   15428     1884.0   \n",
              "\n",
              "   birth_max  death_min  death_max  \n",
              "0     1860.0     1927.0     1927.0  \n",
              "1     1971.0        NaN        NaN  \n",
              "2     1983.0        NaN        NaN  \n",
              "3     1922.0     1951.0     1951.0  \n",
              "4     1884.0     1962.0     1962.0  "
            ]
          },
          "execution_count": 17,
          "metadata": {},
          "output_type": "execute_result"
        }
      ],
      "source": [
        "most_popular.head()"
      ]
    },
    {
      "cell_type": "code",
      "execution_count": 18,
      "id": "MABsjCWfzpLp",
      "metadata": {
        "colab": {
          "base_uri": "https://localhost:8080/"
        },
        "id": "MABsjCWfzpLp",
        "outputId": "c0239278-ab43-4c16-fc2d-ad624044ed1e"
      },
      "outputs": [
        {
          "data": {
            "text/plain": [
              "(556311, 8)"
            ]
          },
          "execution_count": 18,
          "metadata": {},
          "output_type": "execute_result"
        }
      ],
      "source": [
        "most_popular.shape"
      ]
    },
    {
      "cell_type": "code",
      "execution_count": 19,
      "id": "5b14ecef",
      "metadata": {},
      "outputs": [
        {
          "data": {
            "text/plain": [
              "np.float64(1800.0)"
            ]
          },
          "execution_count": 19,
          "metadata": {},
          "output_type": "execute_result"
        }
      ],
      "source": [
        "most_popular['birth'].min()"
      ]
    },
    {
      "cell_type": "markdown",
      "id": "93b22ef3",
      "metadata": {},
      "source": [
        "И так, у нас есть набор данных, предварительно очищенный по табличке \"год\". В нем содержается люди, рожденные с 1800 по 2019. Нас будет интересовать две колонки — 'name' (для извлечения имени) и `birth`. "
      ]
    },
    {
      "cell_type": "markdown",
      "id": "ba50b497",
      "metadata": {},
      "source": [
        "### **Как это работает?**\n",
        "\n",
        "\n",
        "1. **Выбор данных:** Мы выбираем входные данные $x$ и метки для вспомогательной задачи. Например, это может быть задача определения частей речи, извлечения временных рамок или классификации фактов.\n",
        "   \n",
        "2. **Извлечение скрытых состояний:** Пропускаем вход $x$ через модель и сохраняем скрытые состояния $hidden_i$ с одного или нескольких слоёв.\n",
        "\n",
        "3. **Обучение зонда:** Мы строим простой классификатор или регрессионную модель (например, логистическую регрессию, SVM или небольшой нейросетевой слой), обучая её на $hidden_i$. Эта модель и есть наш \"зонд\".\n",
        "\n",
        "4. **Анализ:** Оцениваем производительность зонда. Если зонд решает задачу хорошо, это значит, что информация, необходимая для решения задачи, закодирована в $hidden_i$."
      ]
    },
    {
      "cell_type": "code",
      "execution_count": 20,
      "id": "MlDAwTVDsUnC",
      "metadata": {
        "id": "MlDAwTVDsUnC"
      },
      "outputs": [],
      "source": [
        "# Функция для получения активаций и внимания\n",
        "def get_activations_and_attention(model, enc_inputs, pattern_to_response):\n",
        "    activations = {}\n",
        "\n",
        "    with torch.no_grad():\n",
        "        outputs = model(**enc_inputs, output_hidden_states=True)\n",
        "        output_ids = model.generate(**enc_inputs, max_length=30)\n",
        "\n",
        "    decoded_output = tokenizer.decode(output_ids[0], skip_special_tokens=True)\n",
        "    match_ = re.search(pattern_to_response, decoded_output)\n",
        "    year = match_.group(1) if match_ else None\n",
        "\n",
        "    # Извлекаем внимание (первый, средний и последний слои)\n",
        "    activations['layer_1'] = outputs.hidden_states[0]  # Первый слой внимания\n",
        "    activations['layer_middle'] = outputs.hidden_states[len(outputs.hidden_states) // 2]  # Средний слой внимания\n",
        "    activations['layer_last'] = outputs.hidden_states[-1]  # Последний слой внимания\n",
        "\n",
        "    return activations, year\n",
        "\n",
        "# # Собираем данные для обучения\n",
        "# activations_data_l1 = []\n",
        "# activations_data_lmid = []\n",
        "# activations_data_llast = []\n",
        "# predicted_years = []  # Года рождения predicted\n",
        "# actual_years = [] # Года рождения истинные"
      ]
    },
    {
      "cell_type": "code",
      "execution_count": 21,
      "id": "ehWULTEd5a7z",
      "metadata": {
        "id": "ehWULTEd5a7z"
      },
      "outputs": [],
      "source": [
        "# question = \"When was Albert Einstein born?\"\n",
        "# inputs = tokenizer(question, return_tensors=\"pt\", padding=True, truncation=True)"
      ]
    },
    {
      "cell_type": "code",
      "execution_count": 22,
      "id": "gV4hpJuR12XE",
      "metadata": {
        "colab": {
          "base_uri": "https://localhost:8080/",
          "height": 1000
        },
        "id": "gV4hpJuR12XE",
        "outputId": "33aee6c6-0738-497b-a90d-ddb73973e68a"
      },
      "outputs": [],
      "source": [
        "# cnt = 0\n",
        "# torch.manual_seed(0)\n",
        "# random.seed(0)\n",
        "\n",
        "# np.random.seed(0)\n",
        "\n",
        "# # Собираем активации и внимание для всех людей\n",
        "# for index, row in most_popular.iloc[:5001, :].iterrows():\n",
        "#     name = row['name']\n",
        "#     true_year = row['birth']\n",
        "\n",
        "#     # Создаем запросы для каждого человека\n",
        "#     question = f\"When was {name} born?\"\n",
        "\n",
        "#     # Токенизация\n",
        "#     inputs = tokenizer(question, return_tensors=\"pt\", padding=True, truncation=True)\n",
        "\n",
        "#     # Извлекаем активации и внимание\n",
        "#     activations, predicted = get_activations_and_attention(model, inputs, pattern)\n",
        "\n",
        "#     # Активации слоев\n",
        "#     act_layer_1 = activations['layer_1'].flatten().cpu().numpy()\n",
        "#     act_layer_middle = activations['layer_middle'].flatten().cpu().numpy()\n",
        "#     act_layer_last = activations['layer_last'].flatten().cpu().numpy()\n",
        "\n",
        "#     # Собираем данные\n",
        "#     activations_data_l1.append(act_layer_1)\n",
        "#     activations_data_lmid.append(act_layer_middle)\n",
        "#     activations_data_llast.append(act_layer_last)\n",
        "\n",
        "#     predicted_years.append(predicted)\n",
        "#     actual_years.append(true_year)\n",
        "\n",
        "\n",
        "#     cnt += 1\n",
        "\n",
        "#     if cnt % 500 == 0:\n",
        "#       print(cnt)"
      ]
    },
    {
      "cell_type": "markdown",
      "id": "cf8cb5a3",
      "metadata": {},
      "source": [
        "\n",
        "Благодарю за ваше время! Часть с EDA [здесь](https://github.com/SadSabrina/XAI-open_materials/blob/main/gpt2_probing/probing_eda_rus.ipynb). \n",
        "\n",
        "Присоединяйтесь к [каналу в телеграм](https://t.me/jdata_blog), чтобы видеть новые туториалы :) Также приглашаю пройти мой [rурс](https://stepik.org/a/198640) по explainable AI и, конечно, буду рада видеть в сети [LinkedIn](https://www.linkedin.com/in/sabrina-sadiekh-35181a286/).\n",
        "\n",
        "Успешных вам проектов!\n",
        "Ваш Дата-автор!"
      ]
    }
  ],
  "metadata": {
    "accelerator": "GPU",
    "colab": {
      "gpuType": "T4",
      "machine_shape": "hm",
      "provenance": []
    },
    "kernelspec": {
      "display_name": ".venv",
      "language": "python",
      "name": "python3"
    },
    "language_info": {
      "codemirror_mode": {
        "name": "ipython",
        "version": 3
      },
      "file_extension": ".py",
      "mimetype": "text/x-python",
      "name": "python",
      "nbconvert_exporter": "python",
      "pygments_lexer": "ipython3",
      "version": "3.12.5"
    },
    "widgets": {
      "application/vnd.jupyter.widget-state+json": {
        "04232b4f7d7140ed98e075cba56df558": {
          "model_module": "@jupyter-widgets/controls",
          "model_module_version": "1.5.0",
          "model_name": "ProgressStyleModel",
          "state": {
            "_model_module": "@jupyter-widgets/controls",
            "_model_module_version": "1.5.0",
            "_model_name": "ProgressStyleModel",
            "_view_count": null,
            "_view_module": "@jupyter-widgets/base",
            "_view_module_version": "1.2.0",
            "_view_name": "StyleView",
            "bar_color": null,
            "description_width": ""
          }
        },
        "08f6642efc85424d86639ab95af4c8b7": {
          "model_module": "@jupyter-widgets/base",
          "model_module_version": "1.2.0",
          "model_name": "LayoutModel",
          "state": {
            "_model_module": "@jupyter-widgets/base",
            "_model_module_version": "1.2.0",
            "_model_name": "LayoutModel",
            "_view_count": null,
            "_view_module": "@jupyter-widgets/base",
            "_view_module_version": "1.2.0",
            "_view_name": "LayoutView",
            "align_content": null,
            "align_items": null,
            "align_self": null,
            "border": null,
            "bottom": null,
            "display": null,
            "flex": null,
            "flex_flow": null,
            "grid_area": null,
            "grid_auto_columns": null,
            "grid_auto_flow": null,
            "grid_auto_rows": null,
            "grid_column": null,
            "grid_gap": null,
            "grid_row": null,
            "grid_template_areas": null,
            "grid_template_columns": null,
            "grid_template_rows": null,
            "height": null,
            "justify_content": null,
            "justify_items": null,
            "left": null,
            "margin": null,
            "max_height": null,
            "max_width": null,
            "min_height": null,
            "min_width": null,
            "object_fit": null,
            "object_position": null,
            "order": null,
            "overflow": null,
            "overflow_x": null,
            "overflow_y": null,
            "padding": null,
            "right": null,
            "top": null,
            "visibility": null,
            "width": null
          }
        },
        "0ce38e591507464282ce1103402e3da4": {
          "model_module": "@jupyter-widgets/controls",
          "model_module_version": "1.5.0",
          "model_name": "DescriptionStyleModel",
          "state": {
            "_model_module": "@jupyter-widgets/controls",
            "_model_module_version": "1.5.0",
            "_model_name": "DescriptionStyleModel",
            "_view_count": null,
            "_view_module": "@jupyter-widgets/base",
            "_view_module_version": "1.2.0",
            "_view_name": "StyleView",
            "description_width": ""
          }
        },
        "10d1f43c241b450d8ac5a6f1e6183c66": {
          "model_module": "@jupyter-widgets/base",
          "model_module_version": "1.2.0",
          "model_name": "LayoutModel",
          "state": {
            "_model_module": "@jupyter-widgets/base",
            "_model_module_version": "1.2.0",
            "_model_name": "LayoutModel",
            "_view_count": null,
            "_view_module": "@jupyter-widgets/base",
            "_view_module_version": "1.2.0",
            "_view_name": "LayoutView",
            "align_content": null,
            "align_items": null,
            "align_self": null,
            "border": null,
            "bottom": null,
            "display": null,
            "flex": null,
            "flex_flow": null,
            "grid_area": null,
            "grid_auto_columns": null,
            "grid_auto_flow": null,
            "grid_auto_rows": null,
            "grid_column": null,
            "grid_gap": null,
            "grid_row": null,
            "grid_template_areas": null,
            "grid_template_columns": null,
            "grid_template_rows": null,
            "height": null,
            "justify_content": null,
            "justify_items": null,
            "left": null,
            "margin": null,
            "max_height": null,
            "max_width": null,
            "min_height": null,
            "min_width": null,
            "object_fit": null,
            "object_position": null,
            "order": null,
            "overflow": null,
            "overflow_x": null,
            "overflow_y": null,
            "padding": null,
            "right": null,
            "top": null,
            "visibility": null,
            "width": null
          }
        },
        "11e2752690e549a7b18dcdaa662643f7": {
          "model_module": "@jupyter-widgets/base",
          "model_module_version": "1.2.0",
          "model_name": "LayoutModel",
          "state": {
            "_model_module": "@jupyter-widgets/base",
            "_model_module_version": "1.2.0",
            "_model_name": "LayoutModel",
            "_view_count": null,
            "_view_module": "@jupyter-widgets/base",
            "_view_module_version": "1.2.0",
            "_view_name": "LayoutView",
            "align_content": null,
            "align_items": null,
            "align_self": null,
            "border": null,
            "bottom": null,
            "display": null,
            "flex": null,
            "flex_flow": null,
            "grid_area": null,
            "grid_auto_columns": null,
            "grid_auto_flow": null,
            "grid_auto_rows": null,
            "grid_column": null,
            "grid_gap": null,
            "grid_row": null,
            "grid_template_areas": null,
            "grid_template_columns": null,
            "grid_template_rows": null,
            "height": null,
            "justify_content": null,
            "justify_items": null,
            "left": null,
            "margin": null,
            "max_height": null,
            "max_width": null,
            "min_height": null,
            "min_width": null,
            "object_fit": null,
            "object_position": null,
            "order": null,
            "overflow": null,
            "overflow_x": null,
            "overflow_y": null,
            "padding": null,
            "right": null,
            "top": null,
            "visibility": null,
            "width": null
          }
        },
        "21c141b00e7c40b7a59f18ca7b994e2d": {
          "model_module": "@jupyter-widgets/controls",
          "model_module_version": "1.5.0",
          "model_name": "ProgressStyleModel",
          "state": {
            "_model_module": "@jupyter-widgets/controls",
            "_model_module_version": "1.5.0",
            "_model_name": "ProgressStyleModel",
            "_view_count": null,
            "_view_module": "@jupyter-widgets/base",
            "_view_module_version": "1.2.0",
            "_view_name": "StyleView",
            "bar_color": null,
            "description_width": ""
          }
        },
        "23585622ce9143fd8b26361c6a0c8d49": {
          "model_module": "@jupyter-widgets/base",
          "model_module_version": "1.2.0",
          "model_name": "LayoutModel",
          "state": {
            "_model_module": "@jupyter-widgets/base",
            "_model_module_version": "1.2.0",
            "_model_name": "LayoutModel",
            "_view_count": null,
            "_view_module": "@jupyter-widgets/base",
            "_view_module_version": "1.2.0",
            "_view_name": "LayoutView",
            "align_content": null,
            "align_items": null,
            "align_self": null,
            "border": null,
            "bottom": null,
            "display": null,
            "flex": null,
            "flex_flow": null,
            "grid_area": null,
            "grid_auto_columns": null,
            "grid_auto_flow": null,
            "grid_auto_rows": null,
            "grid_column": null,
            "grid_gap": null,
            "grid_row": null,
            "grid_template_areas": null,
            "grid_template_columns": null,
            "grid_template_rows": null,
            "height": null,
            "justify_content": null,
            "justify_items": null,
            "left": null,
            "margin": null,
            "max_height": null,
            "max_width": null,
            "min_height": null,
            "min_width": null,
            "object_fit": null,
            "object_position": null,
            "order": null,
            "overflow": null,
            "overflow_x": null,
            "overflow_y": null,
            "padding": null,
            "right": null,
            "top": null,
            "visibility": null,
            "width": null
          }
        },
        "2737cecf797e49fabafc9f4f47c17626": {
          "model_module": "@jupyter-widgets/controls",
          "model_module_version": "1.5.0",
          "model_name": "HTMLModel",
          "state": {
            "_dom_classes": [],
            "_model_module": "@jupyter-widgets/controls",
            "_model_module_version": "1.5.0",
            "_model_name": "HTMLModel",
            "_view_count": null,
            "_view_module": "@jupyter-widgets/controls",
            "_view_module_version": "1.5.0",
            "_view_name": "HTMLView",
            "description": "",
            "description_tooltip": null,
            "layout": "IPY_MODEL_30817750dc484b02a96741f9e1239ba7",
            "placeholder": "​",
            "style": "IPY_MODEL_fabd66db95154e7bb3c322fafdaeb655",
            "value": "cleaned_people.csv: 100%"
          }
        },
        "29ecea1e0b6e4655a2cf15280ac73245": {
          "model_module": "@jupyter-widgets/controls",
          "model_module_version": "1.5.0",
          "model_name": "ProgressStyleModel",
          "state": {
            "_model_module": "@jupyter-widgets/controls",
            "_model_module_version": "1.5.0",
            "_model_name": "ProgressStyleModel",
            "_view_count": null,
            "_view_module": "@jupyter-widgets/base",
            "_view_module_version": "1.2.0",
            "_view_name": "StyleView",
            "bar_color": null,
            "description_width": ""
          }
        },
        "30817750dc484b02a96741f9e1239ba7": {
          "model_module": "@jupyter-widgets/base",
          "model_module_version": "1.2.0",
          "model_name": "LayoutModel",
          "state": {
            "_model_module": "@jupyter-widgets/base",
            "_model_module_version": "1.2.0",
            "_model_name": "LayoutModel",
            "_view_count": null,
            "_view_module": "@jupyter-widgets/base",
            "_view_module_version": "1.2.0",
            "_view_name": "LayoutView",
            "align_content": null,
            "align_items": null,
            "align_self": null,
            "border": null,
            "bottom": null,
            "display": null,
            "flex": null,
            "flex_flow": null,
            "grid_area": null,
            "grid_auto_columns": null,
            "grid_auto_flow": null,
            "grid_auto_rows": null,
            "grid_column": null,
            "grid_gap": null,
            "grid_row": null,
            "grid_template_areas": null,
            "grid_template_columns": null,
            "grid_template_rows": null,
            "height": null,
            "justify_content": null,
            "justify_items": null,
            "left": null,
            "margin": null,
            "max_height": null,
            "max_width": null,
            "min_height": null,
            "min_width": null,
            "object_fit": null,
            "object_position": null,
            "order": null,
            "overflow": null,
            "overflow_x": null,
            "overflow_y": null,
            "padding": null,
            "right": null,
            "top": null,
            "visibility": null,
            "width": null
          }
        },
        "35e9e81b73d84b06b6c7152918f27c28": {
          "model_module": "@jupyter-widgets/base",
          "model_module_version": "1.2.0",
          "model_name": "LayoutModel",
          "state": {
            "_model_module": "@jupyter-widgets/base",
            "_model_module_version": "1.2.0",
            "_model_name": "LayoutModel",
            "_view_count": null,
            "_view_module": "@jupyter-widgets/base",
            "_view_module_version": "1.2.0",
            "_view_name": "LayoutView",
            "align_content": null,
            "align_items": null,
            "align_self": null,
            "border": null,
            "bottom": null,
            "display": null,
            "flex": null,
            "flex_flow": null,
            "grid_area": null,
            "grid_auto_columns": null,
            "grid_auto_flow": null,
            "grid_auto_rows": null,
            "grid_column": null,
            "grid_gap": null,
            "grid_row": null,
            "grid_template_areas": null,
            "grid_template_columns": null,
            "grid_template_rows": null,
            "height": null,
            "justify_content": null,
            "justify_items": null,
            "left": null,
            "margin": null,
            "max_height": null,
            "max_width": null,
            "min_height": null,
            "min_width": null,
            "object_fit": null,
            "object_position": null,
            "order": null,
            "overflow": null,
            "overflow_x": null,
            "overflow_y": null,
            "padding": null,
            "right": null,
            "top": null,
            "visibility": null,
            "width": null
          }
        },
        "41c4a89d95e240b98b7bc3d71652f595": {
          "model_module": "@jupyter-widgets/controls",
          "model_module_version": "1.5.0",
          "model_name": "FloatProgressModel",
          "state": {
            "_dom_classes": [],
            "_model_module": "@jupyter-widgets/controls",
            "_model_module_version": "1.5.0",
            "_model_name": "FloatProgressModel",
            "_view_count": null,
            "_view_module": "@jupyter-widgets/controls",
            "_view_module_version": "1.5.0",
            "_view_name": "ProgressView",
            "bar_style": "success",
            "description": "",
            "description_tooltip": null,
            "layout": "IPY_MODEL_08f6642efc85424d86639ab95af4c8b7",
            "max": 74,
            "min": 0,
            "orientation": "horizontal",
            "style": "IPY_MODEL_04232b4f7d7140ed98e075cba56df558",
            "value": 74
          }
        },
        "4b62fe0e07554567b5dfaa402036fdbc": {
          "model_module": "@jupyter-widgets/controls",
          "model_module_version": "1.5.0",
          "model_name": "HTMLModel",
          "state": {
            "_dom_classes": [],
            "_model_module": "@jupyter-widgets/controls",
            "_model_module_version": "1.5.0",
            "_model_name": "HTMLModel",
            "_view_count": null,
            "_view_module": "@jupyter-widgets/controls",
            "_view_module_version": "1.5.0",
            "_view_name": "HTMLView",
            "description": "",
            "description_tooltip": null,
            "layout": "IPY_MODEL_5c1d551cf1864c8dbee075faf4c037d0",
            "placeholder": "​",
            "style": "IPY_MODEL_bb2b117bf2ed4a6a873e32f871760627",
            "value": " 2291817/2291817 [00:02&lt;00:00, 854550.76 examples/s]"
          }
        },
        "4ece8b776cde41bf842f206ded37665c": {
          "model_module": "@jupyter-widgets/controls",
          "model_module_version": "1.5.0",
          "model_name": "DescriptionStyleModel",
          "state": {
            "_model_module": "@jupyter-widgets/controls",
            "_model_module_version": "1.5.0",
            "_model_name": "DescriptionStyleModel",
            "_view_count": null,
            "_view_module": "@jupyter-widgets/base",
            "_view_module_version": "1.2.0",
            "_view_name": "StyleView",
            "description_width": ""
          }
        },
        "5c1d551cf1864c8dbee075faf4c037d0": {
          "model_module": "@jupyter-widgets/base",
          "model_module_version": "1.2.0",
          "model_name": "LayoutModel",
          "state": {
            "_model_module": "@jupyter-widgets/base",
            "_model_module_version": "1.2.0",
            "_model_name": "LayoutModel",
            "_view_count": null,
            "_view_module": "@jupyter-widgets/base",
            "_view_module_version": "1.2.0",
            "_view_name": "LayoutView",
            "align_content": null,
            "align_items": null,
            "align_self": null,
            "border": null,
            "bottom": null,
            "display": null,
            "flex": null,
            "flex_flow": null,
            "grid_area": null,
            "grid_auto_columns": null,
            "grid_auto_flow": null,
            "grid_auto_rows": null,
            "grid_column": null,
            "grid_gap": null,
            "grid_row": null,
            "grid_template_areas": null,
            "grid_template_columns": null,
            "grid_template_rows": null,
            "height": null,
            "justify_content": null,
            "justify_items": null,
            "left": null,
            "margin": null,
            "max_height": null,
            "max_width": null,
            "min_height": null,
            "min_width": null,
            "object_fit": null,
            "object_position": null,
            "order": null,
            "overflow": null,
            "overflow_x": null,
            "overflow_y": null,
            "padding": null,
            "right": null,
            "top": null,
            "visibility": null,
            "width": null
          }
        },
        "5f55b4f5e0b749e49d5b1480717534c6": {
          "model_module": "@jupyter-widgets/controls",
          "model_module_version": "1.5.0",
          "model_name": "HBoxModel",
          "state": {
            "_dom_classes": [],
            "_model_module": "@jupyter-widgets/controls",
            "_model_module_version": "1.5.0",
            "_model_name": "HBoxModel",
            "_view_count": null,
            "_view_module": "@jupyter-widgets/controls",
            "_view_module_version": "1.5.0",
            "_view_name": "HBoxView",
            "box_style": "",
            "children": [
              "IPY_MODEL_d60913c138974e0ebf3116d781c04fb4",
              "IPY_MODEL_6aaf363ca2fc45e4a1b6837880222f8e",
              "IPY_MODEL_4b62fe0e07554567b5dfaa402036fdbc"
            ],
            "layout": "IPY_MODEL_b89a16c27e5241d98d1a56da4af27f18"
          }
        },
        "613d86c3ec0e4a0593fa2af352000a67": {
          "model_module": "@jupyter-widgets/controls",
          "model_module_version": "1.5.0",
          "model_name": "HBoxModel",
          "state": {
            "_dom_classes": [],
            "_model_module": "@jupyter-widgets/controls",
            "_model_module_version": "1.5.0",
            "_model_name": "HBoxModel",
            "_view_count": null,
            "_view_module": "@jupyter-widgets/controls",
            "_view_module_version": "1.5.0",
            "_view_name": "HBoxView",
            "box_style": "",
            "children": [
              "IPY_MODEL_7d51a350a74d4f208241ac0c0147f99d",
              "IPY_MODEL_41c4a89d95e240b98b7bc3d71652f595",
              "IPY_MODEL_cae2acf1f9a348be975e58adca234708"
            ],
            "layout": "IPY_MODEL_fd0b239b26224a41abc6068b9ff3cb3f"
          }
        },
        "6aaf363ca2fc45e4a1b6837880222f8e": {
          "model_module": "@jupyter-widgets/controls",
          "model_module_version": "1.5.0",
          "model_name": "FloatProgressModel",
          "state": {
            "_dom_classes": [],
            "_model_module": "@jupyter-widgets/controls",
            "_model_module_version": "1.5.0",
            "_model_name": "FloatProgressModel",
            "_view_count": null,
            "_view_module": "@jupyter-widgets/controls",
            "_view_module_version": "1.5.0",
            "_view_name": "ProgressView",
            "bar_style": "success",
            "description": "",
            "description_tooltip": null,
            "layout": "IPY_MODEL_bb186527242d4579a4e9fe85d93fd012",
            "max": 2291817,
            "min": 0,
            "orientation": "horizontal",
            "style": "IPY_MODEL_21c141b00e7c40b7a59f18ca7b994e2d",
            "value": 2291817
          }
        },
        "6bd00ef04b654f72990adab54f638445": {
          "model_module": "@jupyter-widgets/controls",
          "model_module_version": "1.5.0",
          "model_name": "DescriptionStyleModel",
          "state": {
            "_model_module": "@jupyter-widgets/controls",
            "_model_module_version": "1.5.0",
            "_model_name": "DescriptionStyleModel",
            "_view_count": null,
            "_view_module": "@jupyter-widgets/base",
            "_view_module_version": "1.2.0",
            "_view_name": "StyleView",
            "description_width": ""
          }
        },
        "7275e94fa2214062845d521eebddaa84": {
          "model_module": "@jupyter-widgets/controls",
          "model_module_version": "1.5.0",
          "model_name": "HBoxModel",
          "state": {
            "_dom_classes": [],
            "_model_module": "@jupyter-widgets/controls",
            "_model_module_version": "1.5.0",
            "_model_name": "HBoxModel",
            "_view_count": null,
            "_view_module": "@jupyter-widgets/controls",
            "_view_module_version": "1.5.0",
            "_view_name": "HBoxView",
            "box_style": "",
            "children": [
              "IPY_MODEL_2737cecf797e49fabafc9f4f47c17626",
              "IPY_MODEL_e339591399d1453fa8da1b7ce2b928b9",
              "IPY_MODEL_b8b8af4658b24d479b7e7fcf1b05d00b"
            ],
            "layout": "IPY_MODEL_f521ed61e496494cbc7bc467df7f0a6e"
          }
        },
        "7d51a350a74d4f208241ac0c0147f99d": {
          "model_module": "@jupyter-widgets/controls",
          "model_module_version": "1.5.0",
          "model_name": "HTMLModel",
          "state": {
            "_dom_classes": [],
            "_model_module": "@jupyter-widgets/controls",
            "_model_module_version": "1.5.0",
            "_model_name": "HTMLModel",
            "_view_count": null,
            "_view_module": "@jupyter-widgets/controls",
            "_view_module_version": "1.5.0",
            "_view_name": "HTMLView",
            "description": "",
            "description_tooltip": null,
            "layout": "IPY_MODEL_11e2752690e549a7b18dcdaa662643f7",
            "placeholder": "​",
            "style": "IPY_MODEL_fdb744b515cb4b0796c57530aabe5217",
            "value": "README.md: 100%"
          }
        },
        "b89a16c27e5241d98d1a56da4af27f18": {
          "model_module": "@jupyter-widgets/base",
          "model_module_version": "1.2.0",
          "model_name": "LayoutModel",
          "state": {
            "_model_module": "@jupyter-widgets/base",
            "_model_module_version": "1.2.0",
            "_model_name": "LayoutModel",
            "_view_count": null,
            "_view_module": "@jupyter-widgets/base",
            "_view_module_version": "1.2.0",
            "_view_name": "LayoutView",
            "align_content": null,
            "align_items": null,
            "align_self": null,
            "border": null,
            "bottom": null,
            "display": null,
            "flex": null,
            "flex_flow": null,
            "grid_area": null,
            "grid_auto_columns": null,
            "grid_auto_flow": null,
            "grid_auto_rows": null,
            "grid_column": null,
            "grid_gap": null,
            "grid_row": null,
            "grid_template_areas": null,
            "grid_template_columns": null,
            "grid_template_rows": null,
            "height": null,
            "justify_content": null,
            "justify_items": null,
            "left": null,
            "margin": null,
            "max_height": null,
            "max_width": null,
            "min_height": null,
            "min_width": null,
            "object_fit": null,
            "object_position": null,
            "order": null,
            "overflow": null,
            "overflow_x": null,
            "overflow_y": null,
            "padding": null,
            "right": null,
            "top": null,
            "visibility": null,
            "width": null
          }
        },
        "b8b8af4658b24d479b7e7fcf1b05d00b": {
          "model_module": "@jupyter-widgets/controls",
          "model_module_version": "1.5.0",
          "model_name": "HTMLModel",
          "state": {
            "_dom_classes": [],
            "_model_module": "@jupyter-widgets/controls",
            "_model_module_version": "1.5.0",
            "_model_name": "HTMLModel",
            "_view_count": null,
            "_view_module": "@jupyter-widgets/controls",
            "_view_module_version": "1.5.0",
            "_view_name": "HTMLView",
            "description": "",
            "description_tooltip": null,
            "layout": "IPY_MODEL_c522d08dcd9e413f9bde482416e5bef1",
            "placeholder": "​",
            "style": "IPY_MODEL_0ce38e591507464282ce1103402e3da4",
            "value": " 125M/125M [00:02&lt;00:00, 42.7MB/s]"
          }
        },
        "bb186527242d4579a4e9fe85d93fd012": {
          "model_module": "@jupyter-widgets/base",
          "model_module_version": "1.2.0",
          "model_name": "LayoutModel",
          "state": {
            "_model_module": "@jupyter-widgets/base",
            "_model_module_version": "1.2.0",
            "_model_name": "LayoutModel",
            "_view_count": null,
            "_view_module": "@jupyter-widgets/base",
            "_view_module_version": "1.2.0",
            "_view_name": "LayoutView",
            "align_content": null,
            "align_items": null,
            "align_self": null,
            "border": null,
            "bottom": null,
            "display": null,
            "flex": null,
            "flex_flow": null,
            "grid_area": null,
            "grid_auto_columns": null,
            "grid_auto_flow": null,
            "grid_auto_rows": null,
            "grid_column": null,
            "grid_gap": null,
            "grid_row": null,
            "grid_template_areas": null,
            "grid_template_columns": null,
            "grid_template_rows": null,
            "height": null,
            "justify_content": null,
            "justify_items": null,
            "left": null,
            "margin": null,
            "max_height": null,
            "max_width": null,
            "min_height": null,
            "min_width": null,
            "object_fit": null,
            "object_position": null,
            "order": null,
            "overflow": null,
            "overflow_x": null,
            "overflow_y": null,
            "padding": null,
            "right": null,
            "top": null,
            "visibility": null,
            "width": null
          }
        },
        "bb2b117bf2ed4a6a873e32f871760627": {
          "model_module": "@jupyter-widgets/controls",
          "model_module_version": "1.5.0",
          "model_name": "DescriptionStyleModel",
          "state": {
            "_model_module": "@jupyter-widgets/controls",
            "_model_module_version": "1.5.0",
            "_model_name": "DescriptionStyleModel",
            "_view_count": null,
            "_view_module": "@jupyter-widgets/base",
            "_view_module_version": "1.2.0",
            "_view_name": "StyleView",
            "description_width": ""
          }
        },
        "c522d08dcd9e413f9bde482416e5bef1": {
          "model_module": "@jupyter-widgets/base",
          "model_module_version": "1.2.0",
          "model_name": "LayoutModel",
          "state": {
            "_model_module": "@jupyter-widgets/base",
            "_model_module_version": "1.2.0",
            "_model_name": "LayoutModel",
            "_view_count": null,
            "_view_module": "@jupyter-widgets/base",
            "_view_module_version": "1.2.0",
            "_view_name": "LayoutView",
            "align_content": null,
            "align_items": null,
            "align_self": null,
            "border": null,
            "bottom": null,
            "display": null,
            "flex": null,
            "flex_flow": null,
            "grid_area": null,
            "grid_auto_columns": null,
            "grid_auto_flow": null,
            "grid_auto_rows": null,
            "grid_column": null,
            "grid_gap": null,
            "grid_row": null,
            "grid_template_areas": null,
            "grid_template_columns": null,
            "grid_template_rows": null,
            "height": null,
            "justify_content": null,
            "justify_items": null,
            "left": null,
            "margin": null,
            "max_height": null,
            "max_width": null,
            "min_height": null,
            "min_width": null,
            "object_fit": null,
            "object_position": null,
            "order": null,
            "overflow": null,
            "overflow_x": null,
            "overflow_y": null,
            "padding": null,
            "right": null,
            "top": null,
            "visibility": null,
            "width": null
          }
        },
        "cae2acf1f9a348be975e58adca234708": {
          "model_module": "@jupyter-widgets/controls",
          "model_module_version": "1.5.0",
          "model_name": "HTMLModel",
          "state": {
            "_dom_classes": [],
            "_model_module": "@jupyter-widgets/controls",
            "_model_module_version": "1.5.0",
            "_model_name": "HTMLModel",
            "_view_count": null,
            "_view_module": "@jupyter-widgets/controls",
            "_view_module_version": "1.5.0",
            "_view_name": "HTMLView",
            "description": "",
            "description_tooltip": null,
            "layout": "IPY_MODEL_23585622ce9143fd8b26361c6a0c8d49",
            "placeholder": "​",
            "style": "IPY_MODEL_6bd00ef04b654f72990adab54f638445",
            "value": " 74.0/74.0 [00:00&lt;00:00, 5.53kB/s]"
          }
        },
        "d60913c138974e0ebf3116d781c04fb4": {
          "model_module": "@jupyter-widgets/controls",
          "model_module_version": "1.5.0",
          "model_name": "HTMLModel",
          "state": {
            "_dom_classes": [],
            "_model_module": "@jupyter-widgets/controls",
            "_model_module_version": "1.5.0",
            "_model_name": "HTMLModel",
            "_view_count": null,
            "_view_module": "@jupyter-widgets/controls",
            "_view_module_version": "1.5.0",
            "_view_name": "HTMLView",
            "description": "",
            "description_tooltip": null,
            "layout": "IPY_MODEL_35e9e81b73d84b06b6c7152918f27c28",
            "placeholder": "​",
            "style": "IPY_MODEL_4ece8b776cde41bf842f206ded37665c",
            "value": "Generating train split: 100%"
          }
        },
        "e339591399d1453fa8da1b7ce2b928b9": {
          "model_module": "@jupyter-widgets/controls",
          "model_module_version": "1.5.0",
          "model_name": "FloatProgressModel",
          "state": {
            "_dom_classes": [],
            "_model_module": "@jupyter-widgets/controls",
            "_model_module_version": "1.5.0",
            "_model_name": "FloatProgressModel",
            "_view_count": null,
            "_view_module": "@jupyter-widgets/controls",
            "_view_module_version": "1.5.0",
            "_view_name": "ProgressView",
            "bar_style": "success",
            "description": "",
            "description_tooltip": null,
            "layout": "IPY_MODEL_10d1f43c241b450d8ac5a6f1e6183c66",
            "max": 124609137,
            "min": 0,
            "orientation": "horizontal",
            "style": "IPY_MODEL_29ecea1e0b6e4655a2cf15280ac73245",
            "value": 124609137
          }
        },
        "f521ed61e496494cbc7bc467df7f0a6e": {
          "model_module": "@jupyter-widgets/base",
          "model_module_version": "1.2.0",
          "model_name": "LayoutModel",
          "state": {
            "_model_module": "@jupyter-widgets/base",
            "_model_module_version": "1.2.0",
            "_model_name": "LayoutModel",
            "_view_count": null,
            "_view_module": "@jupyter-widgets/base",
            "_view_module_version": "1.2.0",
            "_view_name": "LayoutView",
            "align_content": null,
            "align_items": null,
            "align_self": null,
            "border": null,
            "bottom": null,
            "display": null,
            "flex": null,
            "flex_flow": null,
            "grid_area": null,
            "grid_auto_columns": null,
            "grid_auto_flow": null,
            "grid_auto_rows": null,
            "grid_column": null,
            "grid_gap": null,
            "grid_row": null,
            "grid_template_areas": null,
            "grid_template_columns": null,
            "grid_template_rows": null,
            "height": null,
            "justify_content": null,
            "justify_items": null,
            "left": null,
            "margin": null,
            "max_height": null,
            "max_width": null,
            "min_height": null,
            "min_width": null,
            "object_fit": null,
            "object_position": null,
            "order": null,
            "overflow": null,
            "overflow_x": null,
            "overflow_y": null,
            "padding": null,
            "right": null,
            "top": null,
            "visibility": null,
            "width": null
          }
        },
        "fabd66db95154e7bb3c322fafdaeb655": {
          "model_module": "@jupyter-widgets/controls",
          "model_module_version": "1.5.0",
          "model_name": "DescriptionStyleModel",
          "state": {
            "_model_module": "@jupyter-widgets/controls",
            "_model_module_version": "1.5.0",
            "_model_name": "DescriptionStyleModel",
            "_view_count": null,
            "_view_module": "@jupyter-widgets/base",
            "_view_module_version": "1.2.0",
            "_view_name": "StyleView",
            "description_width": ""
          }
        },
        "fd0b239b26224a41abc6068b9ff3cb3f": {
          "model_module": "@jupyter-widgets/base",
          "model_module_version": "1.2.0",
          "model_name": "LayoutModel",
          "state": {
            "_model_module": "@jupyter-widgets/base",
            "_model_module_version": "1.2.0",
            "_model_name": "LayoutModel",
            "_view_count": null,
            "_view_module": "@jupyter-widgets/base",
            "_view_module_version": "1.2.0",
            "_view_name": "LayoutView",
            "align_content": null,
            "align_items": null,
            "align_self": null,
            "border": null,
            "bottom": null,
            "display": null,
            "flex": null,
            "flex_flow": null,
            "grid_area": null,
            "grid_auto_columns": null,
            "grid_auto_flow": null,
            "grid_auto_rows": null,
            "grid_column": null,
            "grid_gap": null,
            "grid_row": null,
            "grid_template_areas": null,
            "grid_template_columns": null,
            "grid_template_rows": null,
            "height": null,
            "justify_content": null,
            "justify_items": null,
            "left": null,
            "margin": null,
            "max_height": null,
            "max_width": null,
            "min_height": null,
            "min_width": null,
            "object_fit": null,
            "object_position": null,
            "order": null,
            "overflow": null,
            "overflow_x": null,
            "overflow_y": null,
            "padding": null,
            "right": null,
            "top": null,
            "visibility": null,
            "width": null
          }
        },
        "fdb744b515cb4b0796c57530aabe5217": {
          "model_module": "@jupyter-widgets/controls",
          "model_module_version": "1.5.0",
          "model_name": "DescriptionStyleModel",
          "state": {
            "_model_module": "@jupyter-widgets/controls",
            "_model_module_version": "1.5.0",
            "_model_name": "DescriptionStyleModel",
            "_view_count": null,
            "_view_module": "@jupyter-widgets/base",
            "_view_module_version": "1.2.0",
            "_view_name": "StyleView",
            "description_width": ""
          }
        }
      }
    }
  },
  "nbformat": 4,
  "nbformat_minor": 5
}
